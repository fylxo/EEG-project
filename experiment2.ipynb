{
 "cells": [
  {
   "cell_type": "code",
   "execution_count": null,
   "metadata": {},
   "outputs": [],
   "source": [
    "import mne\n",
    "import numpy as np\n",
    "import matplotlib.pyplot as plt\n",
    "import nolds\n",
    "\n",
    "from mne.datasets import eegbci\n",
    "from mne.io import concatenate_raws, read_raw_edf\n",
    "from mne.channels import make_standard_montage\n",
    "\n",
    "\n",
    "from scipy.signal import detrend\n",
    "from tqdm import tqdm\n",
    "from scipy.stats import linregress\n",
    "\n",
    "from mne.time_frequency import tfr_array_morlet\n",
    "from scipy.signal import hilbert, butter, filtfilt\n"
   ]
  },
  {
   "cell_type": "code",
   "execution_count": null,
   "metadata": {},
   "outputs": [],
   "source": [
    "import my_functions2 as my_fun2"
   ]
  },
  {
   "cell_type": "code",
   "execution_count": null,
   "metadata": {},
   "outputs": [],
   "source": [
    "subject = 1\n",
    "runs = {\n",
    "    \"rest\": [1],\n",
    "    \"motor_execution\": [3, 7, 11],\n",
    "    \"motor_imagery\": [4, 8, 12]\n",
    "}\n",
    "\n",
    "subject_data = load_and_preprocess_subject(subject, runs)"
   ]
  },
  {
   "cell_type": "code",
   "execution_count": null,
   "metadata": {},
   "outputs": [],
   "source": [
    "%matplotlib qt\n",
    "\n",
    "# Debug plot (rest condition)\n",
    "quick_plot(subject_data[\"rest\"], title=f\"Subject {subject} | REST\")\n",
    "\n",
    "# Quick check of motor\n",
    "quick_plot(subject_data[\"motor_execution\"], title=f\"Subject {subject} | MOTOR EXECUTION\")"
   ]
  },
  {
   "cell_type": "code",
   "execution_count": null,
   "metadata": {},
   "outputs": [],
   "source": [
    "# Extract epochs from each condition\n",
    "epochs_rest = extract_clean_epochs(subject_data[\"rest\"])\n",
    "epochs_exec = extract_clean_epochs(subject_data[\"motor_execution\"])\n",
    "epochs_imag = extract_clean_epochs(subject_data[\"motor_imagery\"])"
   ]
  },
  {
   "cell_type": "code",
   "execution_count": null,
   "metadata": {},
   "outputs": [],
   "source": [
    "combined_rest = mne.concatenate_epochs([\n",
    "    epochs_exec['rest'], \n",
    "    epochs_imag['rest'], \n",
    "    epochs_rest['rest']\n",
    "])\n",
    "\n",
    "combined_task = mne.concatenate_epochs([\n",
    "    epochs_exec['task'], \n",
    "    epochs_imag['task']\n",
    "])\n",
    "\n",
    "# Shuffle task epochs \n",
    "shuffled_indices = np.random.permutation(len(combined_task))\n",
    "combined_task = combined_task[shuffled_indices]"
   ]
  },
  {
   "cell_type": "code",
   "execution_count": null,
   "metadata": {},
   "outputs": [],
   "source": [
    "%matplotlib qt \n",
    "#combined_task.plot(n_channels=8, title=\"Combined Task Epochs\")"
   ]
  },
  {
   "cell_type": "markdown",
   "metadata": {},
   "source": [
    "# DFA Analysis\n",
    "\n",
    "α ≈ 0.7–1.0: Indicates long-range temporal correlations (LRTC) and near-critical dynamics"
   ]
  },
  {
   "cell_type": "code",
   "execution_count": null,
   "metadata": {},
   "outputs": [],
   "source": [
    "alpha_rest = compute_dfa_from_epochs(combined_rest, picks=['C3', 'Cz', 'C4'])\n",
    "alpha_task = compute_dfa_from_epochs(combined_task, picks=['C3', 'Cz', 'C4'])\n",
    "\n",
    "print(\"Rest Alpha Values:\", alpha_rest)\n",
    "print(\"Task Alpha Values:\", alpha_task)"
   ]
  },
  {
   "cell_type": "code",
   "execution_count": null,
   "metadata": {},
   "outputs": [],
   "source": [
    "# Extract EEG signal (flatten Cz channel from rest condition)\n",
    "signal = combined_task.get_data(picks=\"C3\").reshape(-1)\n",
    "\n",
    "# Compute DFA\n",
    "alpha = compute_dfa(signal)\n",
    "print(f\"DFA exponent (Cz, rest): {alpha:.3f}\")"
   ]
  },
  {
   "cell_type": "code",
   "execution_count": null,
   "metadata": {},
   "outputs": [],
   "source": [
    "# Extract data (e.g., rest condition)\n",
    "data_rest = combined_rest.get_data(picks=['C3', 'Cz', 'C4'])  # shape: (n_epochs, n_channels, n_times)\n",
    "X_rest = data_rest.transpose(1, 0, 2).reshape(data_rest.shape[1], -1)  # (channels, time)\n",
    "\n",
    "# Define segment sizes\n",
    "segment_sizes = np.geomspace(30, X_rest.shape[1] // 5, 20).astype(int)\n",
    "\n",
    "# Compute DFA\n",
    "F_rest = compute_F(X_rest, segment_sizes)\n",
    "alpha_rest, intercept_rest, _, _ = compute_DFA(segment_sizes, F_rest, fitting_range=(50, 10000))\n",
    "\n",
    "# Plot\n",
    "plot_dfa_fit(segment_sizes, F_rest, alpha_rest, intercept_rest, fitting_range=(50, 10000))"
   ]
  },
  {
   "cell_type": "code",
   "execution_count": null,
   "metadata": {},
   "outputs": [],
   "source": [
    "# Extract data (e.g., rest condition)\n",
    "data_rest = combined_task.get_data(picks=['C3', 'Cz', 'C4'])  # shape: (n_epochs, n_channels, n_times)\n",
    "X_rest = data_rest.transpose(1, 0, 2).reshape(data_rest.shape[1], -1)  # (channels, time)\n",
    "\n",
    "# Define segment sizes\n",
    "segment_sizes = np.geomspace(30, X_rest.shape[1] // 5, 20).astype(int)\n",
    "\n",
    "# Compute DFA\n",
    "F_rest = compute_F(X_rest, segment_sizes)\n",
    "alpha_rest, intercept_rest, _, _ = compute_DFA(segment_sizes, F_rest, fitting_range=(50, 10000))\n",
    "\n",
    "# Plot\n",
    "plot_dfa_fit(segment_sizes, F_rest, alpha_rest, intercept_rest, fitting_range=(50, 10000))"
   ]
  },
  {
   "cell_type": "code",
   "execution_count": null,
   "metadata": {},
   "outputs": [],
   "source": [
    "alpha_beta_rest = run_band_limited_dfa(combined_rest, channel=\"Cz\", band=(13, 30))\n",
    "alpha_beta_task = run_band_limited_dfa(combined_task, channel=\"Cz\", band=(13, 30))\n",
    "\n",
    "print(f\"Beta DFA (Rest - Cz): {alpha_beta_rest:.3f}\")\n",
    "print(f\"Beta DFA (Task - Cz): {alpha_beta_task:.3f}\")\n"
   ]
  },
  {
   "cell_type": "code",
   "execution_count": null,
   "metadata": {},
   "outputs": [],
   "source": [
    "# 1. Get envelope from Cz, 13 Hz (alpha)\n",
    "envelope = extract_wavelet_envelope(combined_rest, channel=\"Cz\", sfreq=combined_rest.info['sfreq'], freq=13)\n",
    "\n",
    "# 2. Define segment sizes\n",
    "segment_sizes = np.unique(np.logspace(2, np.log10(len(envelope)/5), num=20, base=10).astype(int))\n",
    "\n",
    "# 3. Compute F(n)\n",
    "F = compute_fluctuation_function(envelope, segment_sizes)\n",
    "\n",
    "# 4. Fit alpha\n",
    "alpha, _ = compute_dfa_scaling(segment_sizes, F)\n",
    "\n",
    "# 5. Plot\n",
    "plt.figure(figsize=(8, 5))\n",
    "plt.loglog(segment_sizes, F, 'o-', label=f\"Cz (α = {alpha:.3f})\")\n",
    "plt.xlabel(\"log(Window size)\")\n",
    "plt.ylabel(\"log(Fluctuation)\")\n",
    "plt.title(\"DFA on Alpha Envelope – Cz (Rest)\")\n",
    "plt.grid(True)\n",
    "plt.legend()\n",
    "plt.tight_layout()\n",
    "plt.show()"
   ]
  },
  {
   "cell_type": "code",
   "execution_count": null,
   "metadata": {},
   "outputs": [],
   "source": []
  }
 ],
 "metadata": {
  "kernelspec": {
   "display_name": "Python 3",
   "language": "python",
   "name": "python3"
  },
  "language_info": {
   "codemirror_mode": {
    "name": "ipython",
    "version": 3
   },
   "file_extension": ".py",
   "mimetype": "text/x-python",
   "name": "python",
   "nbconvert_exporter": "python",
   "pygments_lexer": "ipython3",
   "version": "3.12.2"
  }
 },
 "nbformat": 4,
 "nbformat_minor": 2
}
