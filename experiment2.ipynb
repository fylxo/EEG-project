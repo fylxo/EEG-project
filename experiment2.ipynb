{
 "cells": [
  {
   "cell_type": "code",
   "execution_count": null,
   "metadata": {},
   "outputs": [],
   "source": [
    "import mne\n",
    "import numpy as np\n",
    "import matplotlib.pyplot as plt\n",
    "import nolds\n",
    "\n",
    "from mne.datasets import eegbci\n",
    "from mne.io import concatenate_raws, read_raw_edf\n",
    "from mne.channels import make_standard_montage\n",
    "\n",
    "\n",
    "from scipy.signal import detrend\n",
    "from tqdm import tqdm\n",
    "from scipy.stats import linregress\n",
    "\n",
    "from mne.time_frequency import tfr_array_morlet\n",
    "from scipy.signal import hilbert, butter, filtfilt\n"
   ]
  },
  {
   "cell_type": "code",
   "execution_count": null,
   "metadata": {},
   "outputs": [],
   "source": [
    "import my_functions2 as mf"
   ]
  },
  {
   "cell_type": "code",
   "execution_count": null,
   "metadata": {},
   "outputs": [],
   "source": [
    "subject = 1\n",
    "runs = {\n",
    "    \"rest\": [1],\n",
    "    \"motor_execution\": [3, 7, 11],\n",
    "    \"motor_imagery\": [4, 8, 12]\n",
    "}\n",
    "\n",
    "# Load and preprocess the data\n",
    "subject_data = mf.load_and_preprocess_subject(subject, runs)"
   ]
  },
  {
   "cell_type": "code",
   "execution_count": null,
   "metadata": {},
   "outputs": [],
   "source": [
    "%matplotlib qt\n",
    "\n",
    "# Quick visualization check\n",
    "mf.quick_plot(subject_data[\"rest\"], title=f\"Subject {subject} | REST\")\n",
    "mf.quick_plot(subject_data[\"motor_execution\"], title=f\"Subject {subject} | MOTOR EXECUTION\")"
   ]
  },
  {
   "cell_type": "code",
   "execution_count": null,
   "metadata": {},
   "outputs": [],
   "source": [
    "# Extract epochs from each condition\n",
    "epochs_rest = mf.extract_clean_epochs(subject_data[\"rest\"])\n",
    "epochs_exec = mf.extract_clean_epochs(subject_data[\"motor_execution\"]) \n",
    "epochs_imag = mf.extract_clean_epochs(subject_data[\"motor_imagery\"])"
   ]
  },
  {
   "cell_type": "code",
   "execution_count": null,
   "metadata": {},
   "outputs": [],
   "source": [
    "# Combine epochs for more robust analysis\n",
    "combined_rest = mne.concatenate_epochs([\n",
    "    epochs_exec['rest'], \n",
    "    epochs_imag['rest'], \n",
    "    epochs_rest['rest']\n",
    "])\n",
    "\n",
    "combined_task = mne.concatenate_epochs([\n",
    "    epochs_exec['task'], \n",
    "    epochs_imag['task']\n",
    "])\n",
    "\n",
    "# Shuffle task epochs for fair sampling\n",
    "np.random.seed(42)  # for reproducibility\n",
    "shuffled_indices = np.random.permutation(len(combined_task))\n",
    "combined_task = combined_task[shuffled_indices]\n",
    "\n",
    "print(f\"Combined REST epochs: {len(combined_rest)}\")\n",
    "print(f\"Combined TASK epochs: {len(combined_task)}\")"
   ]
  },
  {
   "cell_type": "code",
   "execution_count": null,
   "metadata": {},
   "outputs": [],
   "source": [
    "%matplotlib qt \n",
    "combined_task.plot(n_channels=8, title=\"Combined Task Epochs\")"
   ]
  },
  {
   "cell_type": "markdown",
   "metadata": {},
   "source": [
    "# DFA Analysis"
   ]
  },
  {
   "cell_type": "code",
   "execution_count": null,
   "metadata": {},
   "outputs": [],
   "source": [
    "# DFA ON RAW SIGNAL"
   ]
  },
  {
   "cell_type": "code",
   "execution_count": null,
   "metadata": {},
   "outputs": [],
   "source": [
    "# Define channels of interest and fitting range\n",
    "channels = ['C3', 'Cz', 'C4']\n",
    "# channels = ['C3', 'C4', 'CP3', 'CP4', 'Cz', 'CPz', 'FC3', 'FC4', 'O1', 'O2']\n",
    "fit_range = (50, 5000)  # in samples\n",
    "\n",
    "# Compute DFA on raw signal for both conditions\n",
    "dfa_raw_rest = mf.compute_dfa_from_epochs(combined_rest, picks=channels, fit_range=fit_range)\n",
    "dfa_raw_task = mf.compute_dfa_from_epochs(combined_task, picks=channels, fit_range=fit_range)\n",
    "\n",
    "# Print results\n",
    "print(\"\\nRaw Signal DFA Results:\")\n",
    "print(\"-\" * 30)\n",
    "print(\"Channel | Rest Alpha | Task Alpha\")\n",
    "print(\"-\" * 30)\n",
    "for ch in channels:\n",
    "    print(f\"{ch:7} | {dfa_raw_rest[ch]:.3f} | {dfa_raw_task[ch]:.3f}\")\n",
    "\n",
    "# Visual comparison for channel Cz\n",
    "mf.compare_conditions_dfa(\n",
    "    {'Rest': combined_rest, 'Task': combined_task}, \n",
    "    channel='Cz', \n",
    "    fit_range=fit_range\n",
    ")\n",
    "\n"
   ]
  },
  {
   "cell_type": "code",
   "execution_count": null,
   "metadata": {},
   "outputs": [],
   "source": [
    "import matplotlib.pyplot as plt\n",
    "import seaborn as sns\n",
    "import pandas as pd\n",
    "\n",
    "def plot_dfa_comparison_bars(dfa_rest, dfa_task, channels=None, title=\"DFA Comparison (Rest vs Task)\", figsize=(12, 6), show_diff=True):\n",
    "    \"\"\"\n",
    "    Plots a bar chart comparing DFA alpha exponents for each channel between rest and task.\n",
    "\n",
    "    Parameters:\n",
    "    -----------\n",
    "    dfa_rest : dict\n",
    "        DFA alpha values for rest condition (channel -> alpha)\n",
    "    dfa_task : dict\n",
    "        DFA alpha values for task condition (channel -> alpha)\n",
    "    channels : list or None\n",
    "        List of channel names to plot (if None, uses intersection of both)\n",
    "    title : str\n",
    "        Plot title\n",
    "    figsize : tuple\n",
    "        Size of the matplotlib figure\n",
    "    show_diff : bool\n",
    "        Whether to show task - rest as text above bars\n",
    "    \"\"\"\n",
    "    # Default: use common channels\n",
    "    if channels is None:\n",
    "        channels = sorted(set(dfa_rest.keys()) & set(dfa_task.keys()))\n",
    "\n",
    "    # Build dataframe for plotting\n",
    "    data = []\n",
    "    for ch in channels:\n",
    "        rest_alpha = dfa_rest[ch]\n",
    "        task_alpha = dfa_task[ch]\n",
    "        data.append({\"Channel\": ch, \"Condition\": \"Rest\", \"Alpha\": rest_alpha})\n",
    "        data.append({\"Channel\": ch, \"Condition\": \"Task\", \"Alpha\": task_alpha})\n",
    "\n",
    "    df = pd.DataFrame(data)\n",
    "\n",
    "    # Plot\n",
    "    plt.figure(figsize=figsize)\n",
    "    ax = sns.barplot(data=df, x=\"Channel\", y=\"Alpha\", hue=\"Condition\", palette=\"Set2\")\n",
    "\n",
    "    # Optionally show differences\n",
    "    if show_diff:\n",
    "        for i, ch in enumerate(channels):\n",
    "            rest_val = dfa_rest[ch]\n",
    "            task_val = dfa_task[ch]\n",
    "            diff = task_val - rest_val\n",
    "            max_val = max(rest_val, task_val)\n",
    "            ax.text(i, max_val + 0.01, f\"Δ={diff:+.3f}\", ha='center', fontsize=9, color='black')\n",
    "\n",
    "    # Labels and formatting\n",
    "    plt.title(title)\n",
    "    plt.ylabel(\"DFA Scaling Exponent (α)\")\n",
    "    plt.ylim(min(df[\"Alpha\"]) - 0.05, max(df[\"Alpha\"]) + 0.08)\n",
    "    plt.grid(axis='y', linestyle='--', alpha=0.3)\n",
    "    plt.tight_layout()\n",
    "    plt.show()\n"
   ]
  },
  {
   "cell_type": "code",
   "execution_count": null,
   "metadata": {},
   "outputs": [],
   "source": [
    "plot_dfa_comparison_bars(dfa_raw_rest, dfa_raw_task, channels=channels)"
   ]
  },
  {
   "cell_type": "code",
   "execution_count": null,
   "metadata": {},
   "outputs": [],
   "source": [
    "# DFA ON FREQUENCY BANDS"
   ]
  },
  {
   "cell_type": "code",
   "execution_count": null,
   "metadata": {},
   "outputs": [],
   "source": [
    "# Define frequency bands\n",
    "bands = {\n",
    "    \"alpha\": (8, 13),\n",
    "    \"beta\": (13, 30),\n",
    "    \"gamma\": (30, 45)\n",
    "}\n",
    "\n",
    "# Analyze each band for each condition\n",
    "for band_name, freq_range in bands.items():\n",
    "    print(f\"\\n{band_name.upper()} BAND ({freq_range[0]}-{freq_range[1]} Hz)\")\n",
    "    print(\"-\" * 50)\n",
    "    \n",
    "    # Compare conditions\n",
    "    results = mf.compare_conditions_dfa(\n",
    "        {'Rest': combined_rest, 'Task': combined_task},\n",
    "        channel='Cz',\n",
    "        band=freq_range,\n",
    "        fit_range=(30, 1000)  # Adjusted for envelope signal\n",
    "    )"
   ]
  },
  {
   "cell_type": "code",
   "execution_count": null,
   "metadata": {},
   "outputs": [],
   "source": [
    "# DETAILED ANALYSIS FOR BETA BAND (13-30 Hz)"
   ]
  },
  {
   "cell_type": "code",
   "execution_count": null,
   "metadata": {},
   "outputs": [],
   "source": [
    "# Analyze beta band across all channels\n",
    "channels_extended = ['C3', 'Cz', 'C4', 'FC3', 'FCz', 'FC4', 'CP3', 'CPz', 'CP4']\n",
    "beta_band = (13, 30)\n",
    "\n",
    "# Compute DFA on beta envelope for all channels\n",
    "dfa_beta_rest = mf.compute_dfa_from_epochs(\n",
    "    combined_rest, \n",
    "    picks=channels_extended, \n",
    "    band=beta_band, \n",
    "    fit_range=(30, 1000)\n",
    ")\n",
    "\n",
    "dfa_beta_task = mf.compute_dfa_from_epochs(\n",
    "    combined_task, \n",
    "    picks=channels_extended, \n",
    "    band=beta_band, \n",
    "    fit_range=(30, 1000)\n",
    ")\n",
    "\n",
    "# Create a comparison table\n",
    "print(\"\\nBeta Band DFA Results:\")\n",
    "print(\"-\" * 40)\n",
    "print(\"Channel | Rest Alpha | Task Alpha | Difference\")\n",
    "print(\"-\" * 40)\n",
    "for ch in channels_extended:\n",
    "    diff = dfa_beta_task[ch] - dfa_beta_rest[ch]\n",
    "    print(f\"{ch:7} | {dfa_beta_rest[ch]:.3f} | {dfa_beta_task[ch]:.3f} | {diff:+.3f}\")\n",
    "\n",
    "# Simplified visualization of beta DFA results\n",
    "plt.figure(figsize=(10, 6))\n",
    "\n",
    "# Prepare data for plotting\n",
    "channels = np.array(channels_extended)\n",
    "rest_values = np.array([dfa_beta_rest[ch] for ch in channels])\n",
    "task_values = np.array([dfa_beta_task[ch] for ch in channels])\n",
    "diff_values = task_values - rest_values\n",
    "\n",
    "# Sort channels by difference for better visualization\n",
    "sort_idx = np.argsort(diff_values)\n",
    "channels_sorted = channels[sort_idx]\n",
    "rest_sorted = rest_values[sort_idx]\n",
    "task_sorted = task_values[sort_idx]\n",
    "diff_sorted = diff_values[sort_idx]\n",
    "\n",
    "# Bar plot of DFA values by channel\n",
    "x = np.arange(len(channels))\n",
    "width = 0.35\n",
    "\n",
    "plt.bar(x - width/2, rest_sorted, width, label='Rest', color='steelblue')\n",
    "plt.bar(x + width/2, task_sorted, width, label='Task', color='firebrick')\n",
    "\n",
    "# Add labels and formatting\n",
    "plt.xlabel('EEG Channel')\n",
    "plt.ylabel('DFA α Exponent')\n",
    "plt.title('Beta Band (13-30 Hz) DFA Values by Channel and Condition')\n",
    "plt.grid(axis='y', linestyle='--', alpha=0.7)\n",
    "plt.xticks(x, channels_sorted, rotation=45)\n",
    "plt.ylim(0.65, 0.8)  # Adjust based on your data range\n",
    "plt.legend()\n",
    "plt.tight_layout()\n",
    "plt.show()\n",
    "\n",
    "# Plot the differences separately\n",
    "plt.figure(figsize=(10, 4))\n",
    "colors = ['firebrick' if val > 0 else 'steelblue' for val in diff_sorted]\n",
    "plt.bar(channels_sorted, diff_sorted, color=colors)\n",
    "plt.axhline(y=0, color='k', linestyle='-', alpha=0.5)\n",
    "plt.xlabel('EEG Channel')\n",
    "plt.ylabel('DFA Difference (Task - Rest)')\n",
    "plt.title('Changes in Beta Band DFA: Task vs Rest')\n",
    "plt.grid(axis='y', linestyle='--', alpha=0.7)\n",
    "plt.tight_layout()\n",
    "plt.show()"
   ]
  },
  {
   "cell_type": "code",
   "execution_count": null,
   "metadata": {},
   "outputs": [],
   "source": []
  },
  {
   "cell_type": "code",
   "execution_count": null,
   "metadata": {},
   "outputs": [],
   "source": [
    "print(\"\\n\" + \"=\"*80)\n",
    "print(\"SUMMARY & DISCUSSION\")\n",
    "print(\"=\"*80)\n",
    "\n",
    "# Calculate overall mean DFA values\n",
    "mean_raw_rest = np.mean([dfa_raw_rest[ch] for ch in channels])\n",
    "mean_raw_task = np.mean([dfa_raw_task[ch] for ch in channels])\n",
    "mean_beta_rest = np.mean([dfa_beta_rest[ch] for ch in channels_extended])\n",
    "mean_beta_task = np.mean([dfa_beta_task[ch] for ch in channels_extended])\n",
    "\n",
    "print(f\"Mean Raw DFA - Rest: {mean_raw_rest:.3f}\")\n",
    "print(f\"Mean Raw DFA - Task: {mean_raw_task:.3f}\")\n",
    "print(f\"Mean Beta DFA - Rest: {mean_beta_rest:.3f}\")\n",
    "print(f\"Mean Beta DFA - Task: {mean_beta_task:.3f}\")\n",
    "\n",
    "# Discuss findings\n",
    "print(\"\\nINTERPRETATION:\")\n",
    "print(\"-\" * 50)\n",
    "print(\"DFA α values interpretation:\")\n",
    "print(\"- α < 0.5: Anti-persistent (negatively correlated)\")\n",
    "print(\"- α ≈ 0.5: White noise (uncorrelated)\")\n",
    "print(\"- 0.5 < α < 1.0: Persistent long-range correlations\")\n",
    "print(\"- α ≈ 1.0: 1/f noise (pink noise)\")\n",
    "print(\"- α > 1.0: Non-stationary, unbounded\")\n",
    "\n",
    "# Check for significant differences\n",
    "if abs(mean_beta_task - mean_beta_rest) > 0.1:\n",
    "    print(\"\\nSignificant difference detected in beta band DFA between rest and task.\")\n",
    "    if mean_beta_task > mean_beta_rest:\n",
    "        print(\"Task condition shows more persistent correlations (more complexity).\")\n",
    "    else:\n",
    "        print(\"Rest condition shows more persistent correlations (more complexity).\")\n",
    "else:\n",
    "    print(\"\\nNo major differences detected in DFA scaling between rest and task.\")"
   ]
  },
  {
   "cell_type": "markdown",
   "metadata": {},
   "source": [
    "# Multiple Subject Analysis"
   ]
  },
  {
   "cell_type": "code",
   "execution_count": null,
   "metadata": {},
   "outputs": [],
   "source": [
    "def compute_subject_dfa(subject_id, channels, band=None, fit_range=(50, 5000), envelope_fit_range=None):\n",
    "    \"\"\"\n",
    "    Compute DFA for a single subject.\n",
    "    \n",
    "    Parameters:\n",
    "    -----------\n",
    "    subject_id : int\n",
    "        Subject number (e.g., 1)\n",
    "    channels : list\n",
    "        EEG channels to include\n",
    "    band : tuple or None\n",
    "        Frequency band for envelope DFA (None for raw signal)\n",
    "    fit_range : tuple\n",
    "        DFA fit range in samples (raw)\n",
    "    envelope_fit_range : tuple\n",
    "        DFA fit range for band envelopes\n",
    "\n",
    "    Returns:\n",
    "    --------\n",
    "    df_subject : DataFrame\n",
    "        DataFrame with columns: Subject, Channel, Condition, Alpha\n",
    "    \"\"\"\n",
    "    runs = {\n",
    "        \"rest\": [1],\n",
    "        \"motor_execution\": [3, 7, 11],\n",
    "        \"motor_imagery\": [4, 8, 12]\n",
    "    }\n",
    "\n",
    "    # Load & preprocess\n",
    "    subject_data = mf.load_and_preprocess_subject(subject_id, runs)\n",
    "\n",
    "    # Extract epochs\n",
    "    epochs_rest = mf.extract_clean_epochs(subject_data[\"rest\"])\n",
    "    epochs_exec = mf.extract_clean_epochs(subject_data[\"motor_execution\"]) \n",
    "    epochs_imag = mf.extract_clean_epochs(subject_data[\"motor_imagery\"])\n",
    "\n",
    "    # Combine\n",
    "    combined_rest = mne.concatenate_epochs([\n",
    "        epochs_exec['rest'], epochs_imag['rest'], epochs_rest['rest']\n",
    "    ])\n",
    "    combined_task = mne.concatenate_epochs([\n",
    "        epochs_exec['task'], epochs_imag['task']\n",
    "    ])\n",
    "    np.random.seed(42)\n",
    "    combined_task = combined_task[np.random.permutation(len(combined_task))]\n",
    "\n",
    "    # Choose DFA method\n",
    "    if band is None:\n",
    "        dfa_rest = mf.compute_dfa_from_epochs(combined_rest, picks=channels, fit_range=fit_range)\n",
    "        dfa_task = mf.compute_dfa_from_epochs(combined_task, picks=channels, fit_range=fit_range)\n",
    "    else:\n",
    "        dfa_rest = mf.compute_dfa_from_epochs(combined_rest, picks=channels, band=band, fit_range=envelope_fit_range)\n",
    "        dfa_task = mf.compute_dfa_from_epochs(combined_task, picks=channels, band=band, fit_range=envelope_fit_range)\n",
    "\n",
    "    # Structure into DataFrame\n",
    "    rows = []\n",
    "    for ch in channels:\n",
    "        rows.append({\"Subject\": subject_id, \"Channel\": ch, \"Condition\": \"Rest\", \"Alpha\": dfa_rest[ch]})\n",
    "        rows.append({\"Subject\": subject_id, \"Channel\": ch, \"Condition\": \"Task\", \"Alpha\": dfa_task[ch]})\n",
    "    \n",
    "    return pd.DataFrame(rows)"
   ]
  },
  {
   "cell_type": "code",
   "execution_count": null,
   "metadata": {},
   "outputs": [],
   "source": [
    "all_subjects = range(1, 11)  # Adjust as needed\n",
    "channels = ['C3', 'Cz', 'C4']\n",
    "beta_band = (13, 30)\n",
    "\n",
    "df_all_dfa = pd.concat([\n",
    "    compute_subject_dfa(subj, channels, band=beta_band, envelope_fit_range=(30, 1000))\n",
    "    for subj in all_subjects\n",
    "], ignore_index=True)"
   ]
  },
  {
   "cell_type": "code",
   "execution_count": null,
   "metadata": {},
   "outputs": [],
   "source": [
    "import seaborn as sns\n",
    "import matplotlib.pyplot as plt\n",
    "\n",
    "def plot_group_dfa(df, title=\"Group DFA Comparison\"):\n",
    "    plt.figure(figsize=(12, 6))\n",
    "    sns.barplot(data=df, x=\"Channel\", y=\"Alpha\", hue=\"Condition\", ci=\"sd\", capsize=0.1)\n",
    "    plt.title(title)\n",
    "    plt.ylabel(\"DFA α Exponent\")\n",
    "    plt.grid(axis='y', linestyle='--', alpha=0.3)\n",
    "    plt.tight_layout()\n",
    "    plt.show()\n"
   ]
  },
  {
   "cell_type": "code",
   "execution_count": null,
   "metadata": {},
   "outputs": [],
   "source": [
    "from scipy.stats import ttest_rel\n",
    "\n",
    "def paired_ttest_dfa(df):\n",
    "    channels = df[\"Channel\"].unique()\n",
    "    results = []\n",
    "\n",
    "    for ch in channels:\n",
    "        df_ch = df[df[\"Channel\"] == ch]\n",
    "        df_pivot = df_ch.pivot(index=\"Subject\", columns=\"Condition\", values=\"Alpha\").dropna()\n",
    "        t_stat, p_val = ttest_rel(df_pivot[\"Task\"], df_pivot[\"Rest\"])\n",
    "        results.append({\"Channel\": ch, \"t\": t_stat, \"p\": p_val})\n",
    "    \n",
    "    return pd.DataFrame(results)\n"
   ]
  },
  {
   "cell_type": "code",
   "execution_count": null,
   "metadata": {},
   "outputs": [],
   "source": [
    "plot_group_dfa(df_all_dfa, title=\"Group DFA Comparison (Beta Band)\")"
   ]
  },
  {
   "cell_type": "code",
   "execution_count": null,
   "metadata": {},
   "outputs": [],
   "source": [
    "paired_ttest_dfa(df_all_dfa)"
   ]
  },
  {
   "cell_type": "code",
   "execution_count": null,
   "metadata": {},
   "outputs": [],
   "source": [
    "bands = {\n",
    "    \"alpha\": (8, 13),\n",
    "    \"beta\": (13, 30)\n",
    "}\n",
    "\n",
    "df_all_bands = []\n",
    "\n",
    "for band_name, band_range in bands.items():\n",
    "    df_band = pd.concat([\n",
    "        compute_subject_dfa(subj, channels, band=band_range, envelope_fit_range=(30, 1000))\n",
    "        .assign(Band=band_name)\n",
    "        for subj in all_subjects\n",
    "    ])\n",
    "    df_all_bands.append(df_band)\n",
    "\n",
    "df_all_bands = pd.concat(df_all_bands, ignore_index=True)\n"
   ]
  },
  {
   "cell_type": "code",
   "execution_count": null,
   "metadata": {},
   "outputs": [],
   "source": [
    "plot_group_dfa(df_all_bands, title=\"Group DFA Comparison (All Bands)\")"
   ]
  },
  {
   "cell_type": "code",
   "execution_count": null,
   "metadata": {},
   "outputs": [],
   "source": [
    "import seaborn as sns\n",
    "import matplotlib.pyplot as plt\n",
    "\n",
    "def plot_dfa_grouped_by_band(df, figsize=(14, 6), title=\"DFA by Channel, Condition & Band\"):\n",
    "    \"\"\"\n",
    "    Creates a grouped barplot for DFA results across bands and conditions.\n",
    "    \n",
    "    Parameters:\n",
    "    -----------\n",
    "    df : DataFrame\n",
    "        Must contain columns: 'Channel', 'Condition', 'Alpha', 'Band'\n",
    "    figsize : tuple\n",
    "        Size of the plot\n",
    "    title : str\n",
    "        Plot title\n",
    "    \"\"\"\n",
    "    plt.figure(figsize=figsize)\n",
    "    \n",
    "    sns.barplot(\n",
    "        data=df,\n",
    "        x=\"Channel\",\n",
    "        y=\"Alpha\",\n",
    "        hue=\"Condition\",\n",
    "        palette=\"Set2\",\n",
    "        ci=\"sd\",\n",
    "        capsize=0.1,\n",
    "        dodge=True,\n",
    "        errorbar=\"ci\"\n",
    "    )\n",
    "\n",
    "    plt.title(title)\n",
    "    plt.ylabel(\"DFA α Exponent\")\n",
    "    plt.grid(axis='y', linestyle='--', alpha=0.3)\n",
    "    plt.tight_layout()\n",
    "    plt.show()\n"
   ]
  },
  {
   "cell_type": "code",
   "execution_count": null,
   "metadata": {},
   "outputs": [],
   "source": [
    "for band in df_all_bands[\"Band\"].unique():\n",
    "    df_band = df_all_bands[df_all_bands[\"Band\"] == band]\n",
    "    plot_dfa_grouped_by_band(df_band, title=f\"{band.capitalize()} Band DFA Comparison\")"
   ]
  },
  {
   "cell_type": "code",
   "execution_count": null,
   "metadata": {},
   "outputs": [],
   "source": [
    "def plot_dfa_facet_by_band(df, figsize=(14, 6)):\n",
    "    \"\"\"\n",
    "    Faceted seaborn barplot: one subplot per band.\n",
    "    \"\"\"\n",
    "    g = sns.catplot(\n",
    "        data=df,\n",
    "        kind=\"bar\",\n",
    "        x=\"Channel\",\n",
    "        y=\"Alpha\",\n",
    "        hue=\"Condition\",\n",
    "        col=\"Band\",\n",
    "        palette=\"Set2\",\n",
    "        ci=\"sd\",\n",
    "        capsize=0.1,\n",
    "        height=figsize[1],\n",
    "        aspect=figsize[0] / figsize[1]\n",
    "    )\n",
    "    g.set_titles(\"{col_name} Band\")\n",
    "    g.set_axis_labels(\"Channel\", \"DFA α Exponent\")\n",
    "    for ax in g.axes.flat:\n",
    "        ax.grid(axis='y', linestyle='--', alpha=0.3)\n",
    "    plt.tight_layout()\n",
    "    plt.show()\n"
   ]
  },
  {
   "cell_type": "code",
   "execution_count": null,
   "metadata": {},
   "outputs": [],
   "source": [
    "plot_dfa_facet_by_band(df_all_bands)"
   ]
  },
  {
   "cell_type": "markdown",
   "metadata": {},
   "source": [
    "# Real vs Imagined"
   ]
  },
  {
   "cell_type": "code",
   "execution_count": null,
   "metadata": {},
   "outputs": [],
   "source": [
    "combined_rest = mne.concatenate_epochs([\n",
    "    epochs_exec['rest'], epochs_imag['rest'], epochs_rest['rest']\n",
    "])\n",
    "\n",
    "combined_real = epochs_exec['task']\n",
    "combined_imagined = epochs_imag['task']"
   ]
  },
  {
   "cell_type": "code",
   "execution_count": null,
   "metadata": {},
   "outputs": [],
   "source": [
    "dfa_rest = mf.compute_dfa_from_epochs(combined_rest, picks=channels)\n",
    "dfa_real = mf.compute_dfa_from_epochs(combined_real, picks=channels)\n",
    "dfa_imag = mf.compute_dfa_from_epochs(combined_imagined, picks=channels)"
   ]
  },
  {
   "cell_type": "code",
   "execution_count": null,
   "metadata": {},
   "outputs": [],
   "source": [
    "def compute_subject_dfa(subject_id, channels, band=None, fit_range=(50, 5000), envelope_fit_range=None):\n",
    "    ...\n",
    "    combined_rest = mne.concatenate_epochs([...])\n",
    "    combined_real = epochs_exec['task']\n",
    "    combined_imag = epochs_imag['task']\n",
    "\n",
    "    if band is None:\n",
    "        dfa_rest = mf.compute_dfa_from_epochs(combined_rest, picks=channels, fit_range=fit_range)\n",
    "        dfa_real = mf.compute_dfa_from_epochs(combined_real, picks=channels, fit_range=fit_range)\n",
    "        dfa_imag = mf.compute_dfa_from_epochs(combined_imag, picks=channels, fit_range=fit_range)\n",
    "    else:\n",
    "        dfa_rest = mf.compute_dfa_from_epochs(combined_rest, picks=channels, band=band, fit_range=envelope_fit_range)\n",
    "        dfa_real = mf.compute_dfa_from_epochs(combined_real, picks=channels, band=band, fit_range=envelope_fit_range)\n",
    "        dfa_imag = mf.compute_dfa_from_epochs(combined_imag, picks=channels, band=band, fit_range=envelope_fit_range)\n",
    "\n",
    "    # Dataframe\n",
    "    rows = []\n",
    "    for ch in channels:\n",
    "        rows.append({\"Subject\": subject_id, \"Channel\": ch, \"Condition\": \"Rest\", \"Alpha\": dfa_rest[ch]})\n",
    "        rows.append({\"Subject\": subject_id, \"Channel\": ch, \"Condition\": \"Real\", \"Alpha\": dfa_real[ch]})\n",
    "        rows.append({\"Subject\": subject_id, \"Channel\": ch, \"Condition\": \"Imagined\", \"Alpha\": dfa_imag[ch]})\n",
    "\n",
    "    return pd.DataFrame(rows)\n"
   ]
  },
  {
   "cell_type": "code",
   "execution_count": null,
   "metadata": {},
   "outputs": [],
   "source": [
    "df_all = pd.concat([\n",
    "    compute_subject_dfa(subj, channels, band=band_range, envelope_fit_range=(30, 1000)).assign(Band=band_name)\n",
    "    for band_name, band_range in bands.items()\n",
    "    for subj in all_subjects\n",
    "], ignore_index=True)"
   ]
  },
  {
   "cell_type": "code",
   "execution_count": null,
   "metadata": {},
   "outputs": [],
   "source": [
    "df_real_vs_imag = df_all[df_all[\"Condition\"].isin([\"Real\", \"Imagined\"])]"
   ]
  },
  {
   "cell_type": "code",
   "execution_count": null,
   "metadata": {},
   "outputs": [],
   "source": [
    "plot_dfa_grouped_by_band(df_real_vs_imag, title=\"DFA: Real vs Imagined\")"
   ]
  },
  {
   "cell_type": "code",
   "execution_count": null,
   "metadata": {},
   "outputs": [],
   "source": []
  }
 ],
 "metadata": {
  "kernelspec": {
   "display_name": "Python 3",
   "language": "python",
   "name": "python3"
  },
  "language_info": {
   "codemirror_mode": {
    "name": "ipython",
    "version": 3
   },
   "file_extension": ".py",
   "mimetype": "text/x-python",
   "name": "python",
   "nbconvert_exporter": "python",
   "pygments_lexer": "ipython3",
   "version": "3.12.2"
  }
 },
 "nbformat": 4,
 "nbformat_minor": 2
}
