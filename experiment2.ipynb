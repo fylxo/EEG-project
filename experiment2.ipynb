{
 "cells": [
  {
   "cell_type": "code",
   "execution_count": 1,
   "metadata": {},
   "outputs": [],
   "source": [
    "import mne\n",
    "import numpy as np\n",
    "import matplotlib.pyplot as plt\n",
    "import nolds\n",
    "\n",
    "from mne.datasets import eegbci\n",
    "from mne.io import concatenate_raws, read_raw_edf\n",
    "from mne.channels import make_standard_montage\n",
    "\n",
    "\n",
    "from scipy.signal import detrend\n",
    "from tqdm import tqdm\n",
    "from scipy.stats import linregress\n",
    "\n",
    "from mne.time_frequency import tfr_array_morlet\n",
    "from scipy.signal import hilbert, butter, filtfilt\n"
   ]
  },
  {
   "cell_type": "code",
   "execution_count": 2,
   "metadata": {},
   "outputs": [],
   "source": [
    "import my_functions2 as mf"
   ]
  },
  {
   "cell_type": "code",
   "execution_count": 3,
   "metadata": {},
   "outputs": [
    {
     "name": "stdout",
     "output_type": "stream",
     "text": [
      "\n",
      "➡️ Loading REST | Runs: [1]\n",
      "Extracting EDF parameters from C:\\Users\\flavi\\mne_data\\MNE-eegbci-data\\files\\eegmmidb\\1.0.0\\S001\\S001R01.edf...\n",
      "EDF file detected\n",
      "Setting channel info structure...\n",
      "Creating raw.info structure...\n",
      "Reading 0 ... 9759  =      0.000 ...    60.994 secs...\n",
      "EEG channel type selected for re-referencing\n",
      "Adding average EEG reference projection.\n",
      "1 projection items deactivated\n",
      "Average reference projection was added, but has not been applied yet. Use the apply_proj method to apply it.\n",
      "Filtering raw data in 1 contiguous segment\n",
      "Setting up band-pass filter from 1 - 40 Hz\n",
      "\n",
      "FIR filter parameters\n",
      "---------------------\n",
      "Designing a one-pass, zero-phase, non-causal bandpass filter:\n",
      "- Windowed time-domain design (firwin) method\n",
      "- Hamming window with 0.0194 passband ripple and 53 dB stopband attenuation\n",
      "- Lower passband edge: 1.00\n",
      "- Lower transition bandwidth: 1.00 Hz (-6 dB cutoff frequency: 0.50 Hz)\n",
      "- Upper passband edge: 40.00 Hz\n",
      "- Upper transition bandwidth: 10.00 Hz (-6 dB cutoff frequency: 45.00 Hz)\n",
      "- Filter length: 529 samples (3.306 s)\n",
      "\n",
      "✅ rest | Shape: (64, 9760) | Duration: 1.02 min\n",
      "\n",
      "➡️ Loading MOTOR_EXECUTION | Runs: [3, 7, 11]\n",
      "Extracting EDF parameters from C:\\Users\\flavi\\mne_data\\MNE-eegbci-data\\files\\eegmmidb\\1.0.0\\S001\\S001R03.edf...\n",
      "EDF file detected\n",
      "Setting channel info structure...\n",
      "Creating raw.info structure...\n",
      "Reading 0 ... 19999  =      0.000 ...   124.994 secs...\n",
      "Extracting EDF parameters from C:\\Users\\flavi\\mne_data\\MNE-eegbci-data\\files\\eegmmidb\\1.0.0\\S001\\S001R07.edf...\n",
      "EDF file detected\n",
      "Setting channel info structure...\n",
      "Creating raw.info structure...\n",
      "Reading 0 ... 19999  =      0.000 ...   124.994 secs...\n",
      "Extracting EDF parameters from C:\\Users\\flavi\\mne_data\\MNE-eegbci-data\\files\\eegmmidb\\1.0.0\\S001\\S001R11.edf...\n",
      "EDF file detected\n",
      "Setting channel info structure...\n",
      "Creating raw.info structure...\n",
      "Reading 0 ... 19999  =      0.000 ...   124.994 secs...\n"
     ]
    },
    {
     "name": "stderr",
     "output_type": "stream",
     "text": [
      "[Parallel(n_jobs=1)]: Done  17 tasks      | elapsed:    0.0s\n"
     ]
    },
    {
     "name": "stdout",
     "output_type": "stream",
     "text": [
      "EEG channel type selected for re-referencing\n",
      "Adding average EEG reference projection.\n",
      "1 projection items deactivated\n",
      "Average reference projection was added, but has not been applied yet. Use the apply_proj method to apply it.\n",
      "Filtering raw data in 3 contiguous segments\n",
      "Setting up band-pass filter from 1 - 40 Hz\n",
      "\n",
      "FIR filter parameters\n",
      "---------------------\n",
      "Designing a one-pass, zero-phase, non-causal bandpass filter:\n",
      "- Windowed time-domain design (firwin) method\n",
      "- Hamming window with 0.0194 passband ripple and 53 dB stopband attenuation\n",
      "- Lower passband edge: 1.00\n",
      "- Lower transition bandwidth: 1.00 Hz (-6 dB cutoff frequency: 0.50 Hz)\n",
      "- Upper passband edge: 40.00 Hz\n",
      "- Upper transition bandwidth: 10.00 Hz (-6 dB cutoff frequency: 45.00 Hz)\n",
      "- Filter length: 529 samples (3.306 s)\n",
      "\n",
      "✅ motor_execution | Shape: (64, 60000) | Duration: 6.25 min\n",
      "\n",
      "➡️ Loading MOTOR_IMAGERY | Runs: [4, 8, 12]\n",
      "Extracting EDF parameters from C:\\Users\\flavi\\mne_data\\MNE-eegbci-data\\files\\eegmmidb\\1.0.0\\S001\\S001R04.edf...\n",
      "EDF file detected\n",
      "Setting channel info structure...\n",
      "Creating raw.info structure...\n",
      "Reading 0 ... 19999  =      0.000 ...   124.994 secs...\n",
      "Extracting EDF parameters from C:\\Users\\flavi\\mne_data\\MNE-eegbci-data\\files\\eegmmidb\\1.0.0\\S001\\S001R08.edf...\n",
      "EDF file detected\n",
      "Setting channel info structure...\n",
      "Creating raw.info structure...\n"
     ]
    },
    {
     "name": "stderr",
     "output_type": "stream",
     "text": [
      "[Parallel(n_jobs=1)]: Done  17 tasks      | elapsed:    0.0s\n"
     ]
    },
    {
     "name": "stdout",
     "output_type": "stream",
     "text": [
      "Reading 0 ... 19999  =      0.000 ...   124.994 secs...\n",
      "Extracting EDF parameters from C:\\Users\\flavi\\mne_data\\MNE-eegbci-data\\files\\eegmmidb\\1.0.0\\S001\\S001R12.edf...\n",
      "EDF file detected\n",
      "Setting channel info structure...\n",
      "Creating raw.info structure...\n",
      "Reading 0 ... 19999  =      0.000 ...   124.994 secs...\n",
      "EEG channel type selected for re-referencing\n",
      "Adding average EEG reference projection.\n",
      "1 projection items deactivated\n",
      "Average reference projection was added, but has not been applied yet. Use the apply_proj method to apply it.\n",
      "Filtering raw data in 3 contiguous segments\n",
      "Setting up band-pass filter from 1 - 40 Hz\n",
      "\n",
      "FIR filter parameters\n",
      "---------------------\n",
      "Designing a one-pass, zero-phase, non-causal bandpass filter:\n",
      "- Windowed time-domain design (firwin) method\n",
      "- Hamming window with 0.0194 passband ripple and 53 dB stopband attenuation\n",
      "- Lower passband edge: 1.00\n",
      "- Lower transition bandwidth: 1.00 Hz (-6 dB cutoff frequency: 0.50 Hz)\n",
      "- Upper passband edge: 40.00 Hz\n",
      "- Upper transition bandwidth: 10.00 Hz (-6 dB cutoff frequency: 45.00 Hz)\n",
      "- Filter length: 529 samples (3.306 s)\n",
      "\n",
      "✅ motor_imagery | Shape: (64, 60000) | Duration: 6.25 min\n"
     ]
    },
    {
     "name": "stderr",
     "output_type": "stream",
     "text": [
      "[Parallel(n_jobs=1)]: Done  17 tasks      | elapsed:    0.0s\n"
     ]
    }
   ],
   "source": [
    "subject = 1\n",
    "runs = {\n",
    "    \"rest\": [1],\n",
    "    \"motor_execution\": [3, 7, 11],\n",
    "    \"motor_imagery\": [4, 8, 12]\n",
    "}\n",
    "\n",
    "# Load and preprocess the data\n",
    "subject_data = mf.load_and_preprocess_subject(subject, runs)"
   ]
  },
  {
   "cell_type": "code",
   "execution_count": null,
   "metadata": {},
   "outputs": [],
   "source": [
    "%matplotlib qt\n",
    "\n",
    "# Quick visualization check\n",
    "mf.quick_plot(subject_data[\"rest\"], title=f\"Subject {subject} | REST\")\n",
    "mf.quick_plot(subject_data[\"motor_execution\"], title=f\"Subject {subject} | MOTOR EXECUTION\")"
   ]
  },
  {
   "cell_type": "code",
   "execution_count": null,
   "metadata": {},
   "outputs": [],
   "source": [
    "# Extract epochs from each condition\n",
    "epochs_rest = mf.extract_clean_epochs(subject_data[\"rest\"])\n",
    "epochs_exec = mf.extract_clean_epochs(subject_data[\"motor_execution\"]) \n",
    "epochs_imag = mf.extract_clean_epochs(subject_data[\"motor_imagery\"])"
   ]
  },
  {
   "cell_type": "code",
   "execution_count": null,
   "metadata": {},
   "outputs": [],
   "source": [
    "# Combine epochs for more robust analysis\n",
    "combined_rest = mne.concatenate_epochs([\n",
    "    epochs_exec['rest'], \n",
    "    epochs_imag['rest'], \n",
    "    epochs_rest['rest']\n",
    "])\n",
    "\n",
    "combined_task = mne.concatenate_epochs([\n",
    "    epochs_exec['task'], \n",
    "    epochs_imag['task']\n",
    "])\n",
    "\n",
    "# Shuffle task epochs for fair sampling\n",
    "np.random.seed(42)  # for reproducibility\n",
    "shuffled_indices = np.random.permutation(len(combined_task))\n",
    "combined_task = combined_task[shuffled_indices]\n",
    "\n",
    "print(f\"Combined REST epochs: {len(combined_rest)}\")\n",
    "print(f\"Combined TASK epochs: {len(combined_task)}\")"
   ]
  },
  {
   "cell_type": "code",
   "execution_count": null,
   "metadata": {},
   "outputs": [],
   "source": [
    "%matplotlib qt \n",
    "#combined_task.plot(n_channels=8, title=\"Combined Task Epochs\")"
   ]
  },
  {
   "cell_type": "markdown",
   "metadata": {},
   "source": [
    "# DFA Analysis\n",
    "\n",
    "α ≈ 0.7–1.0: Indicates long-range temporal correlations (LRTC) and near-critical dynamics"
   ]
  },
  {
   "cell_type": "code",
   "execution_count": null,
   "metadata": {},
   "outputs": [],
   "source": [
    "# DFA ON RAW SIGNAL"
   ]
  },
  {
   "cell_type": "code",
   "execution_count": null,
   "metadata": {},
   "outputs": [],
   "source": [
    "# Define channels of interest and fitting range\n",
    "channels = ['C3', 'Cz', 'C4']\n",
    "fit_range = (50, 5000)  # in samples\n",
    "\n",
    "# Compute DFA on raw signal for both conditions\n",
    "dfa_raw_rest = mf.compute_dfa_from_epochs(combined_rest, picks=channels, fit_range=fit_range)\n",
    "dfa_raw_task = mf.compute_dfa_from_epochs(combined_task, picks=channels, fit_range=fit_range)\n",
    "\n",
    "# Print results\n",
    "print(\"\\nRaw Signal DFA Results:\")\n",
    "print(\"-\" * 30)\n",
    "print(\"Channel | Rest Alpha | Task Alpha\")\n",
    "print(\"-\" * 30)\n",
    "for ch in channels:\n",
    "    print(f\"{ch:7} | {dfa_raw_rest[ch]:.3f} | {dfa_raw_task[ch]:.3f}\")\n",
    "\n",
    "# Visual comparison for channel Cz\n",
    "mf.compare_conditions_dfa(\n",
    "    {'Rest': combined_rest, 'Task': combined_task}, \n",
    "    channel='Cz', \n",
    "    fit_range=fit_range\n",
    ")"
   ]
  },
  {
   "cell_type": "code",
   "execution_count": null,
   "metadata": {},
   "outputs": [],
   "source": [
    "# DFA ON FREQUENCY BANDS"
   ]
  },
  {
   "cell_type": "code",
   "execution_count": null,
   "metadata": {},
   "outputs": [],
   "source": [
    "# Define frequency bands\n",
    "bands = {\n",
    "    \"alpha\": (8, 13),\n",
    "    \"beta\": (13, 30),\n",
    "    \"gamma\": (30, 45)\n",
    "}\n",
    "\n",
    "# Analyze each band for each condition\n",
    "for band_name, freq_range in bands.items():\n",
    "    print(f\"\\n{band_name.upper()} BAND ({freq_range[0]}-{freq_range[1]} Hz)\")\n",
    "    print(\"-\" * 50)\n",
    "    \n",
    "    # Compare conditions\n",
    "    results = mf.compare_conditions_dfa(\n",
    "        {'Rest': combined_rest, 'Task': combined_task},\n",
    "        channel='Cz',\n",
    "        band=freq_range,\n",
    "        fit_range=(30, 1000)  # Adjusted for envelope signal\n",
    "    )"
   ]
  },
  {
   "cell_type": "code",
   "execution_count": null,
   "metadata": {},
   "outputs": [],
   "source": [
    "# DETAILED ANALYSIS FOR BETA BAND (13-30 Hz)"
   ]
  },
  {
   "cell_type": "code",
   "execution_count": null,
   "metadata": {},
   "outputs": [],
   "source": [
    "# Analyze beta band across all channels\n",
    "channels_extended = ['C3', 'Cz', 'C4', 'FC3', 'FCz', 'FC4', 'CP3', 'CPz', 'CP4']\n",
    "beta_band = (13, 30)\n",
    "\n",
    "# Compute DFA on beta envelope for all channels\n",
    "dfa_beta_rest = mf.compute_dfa_from_epochs(\n",
    "    combined_rest, \n",
    "    picks=channels_extended, \n",
    "    band=beta_band, \n",
    "    fit_range=(30, 1000)\n",
    ")\n",
    "\n",
    "dfa_beta_task = mf.compute_dfa_from_epochs(\n",
    "    combined_task, \n",
    "    picks=channels_extended, \n",
    "    band=beta_band, \n",
    "    fit_range=(30, 1000)\n",
    ")\n",
    "\n",
    "# Create a comparison table\n",
    "print(\"\\nBeta Band DFA Results:\")\n",
    "print(\"-\" * 40)\n",
    "print(\"Channel | Rest Alpha | Task Alpha | Difference\")\n",
    "print(\"-\" * 40)\n",
    "for ch in channels_extended:\n",
    "    diff = dfa_beta_task[ch] - dfa_beta_rest[ch]\n",
    "    print(f\"{ch:7} | {dfa_beta_rest[ch]:.3f} | {dfa_beta_task[ch]:.3f} | {diff:+.3f}\")\n",
    "\n",
    "# Visualize beta DFA topographically\n",
    "plt.figure(figsize=(12, 5))\n",
    "\n",
    "# Create arrays for plotting\n",
    "dfa_values_rest = np.array([dfa_beta_rest[ch] for ch in channels_extended])\n",
    "dfa_values_task = np.array([dfa_beta_task[ch] for ch in channels_extended])\n",
    "dfa_diff = dfa_values_task - dfa_values_rest\n",
    "\n",
    "# Extract montage info for plotting\n",
    "picks = mne.pick_channels(combined_rest.info['ch_names'], channels_extended)\n",
    "pos = mne.channels.layout._find_topomap_coords(combined_rest.info, picks)\n",
    "\n",
    "# Plot the three conditions\n",
    "plt.subplot(1, 3, 1)\n",
    "mne.viz.plot_topomap(dfa_values_rest, pos, names=channels_extended, \n",
    "                    show_names=True, cmap='viridis', contours=0,\n",
    "                    vlim=(0.5, 1.0))\n",
    "plt.title('Beta DFA - Rest')\n",
    "\n",
    "plt.subplot(1, 3, 2)\n",
    "mne.viz.plot_topomap(dfa_values_task, pos, names=channels_extended, \n",
    "                    show_names=True, cmap='viridis', contours=0,\n",
    "                    vlim=(0.5, 1.0))\n",
    "plt.title('Beta DFA - Task')\n",
    "\n",
    "plt.subplot(1, 3, 3)\n",
    "mne.viz.plot_topomap(dfa_diff, pos, names=channels_extended, \n",
    "                    show_names=True, cmap='RdBu_r', contours=0,\n",
    "                    vlim=(-0.2, 0.2))\n",
    "plt.title('Task - Rest Difference')\n",
    "\n",
    "plt.tight_layout()\n",
    "plt.show()"
   ]
  },
  {
   "cell_type": "code",
   "execution_count": null,
   "metadata": {},
   "outputs": [],
   "source": [
    "print(\"\\n\" + \"=\"*80)\n",
    "print(\"SUMMARY & DISCUSSION\")\n",
    "print(\"=\"*80)\n",
    "\n",
    "# Calculate overall mean DFA values\n",
    "mean_raw_rest = np.mean([dfa_raw_rest[ch] for ch in channels])\n",
    "mean_raw_task = np.mean([dfa_raw_task[ch] for ch in channels])\n",
    "mean_beta_rest = np.mean([dfa_beta_rest[ch] for ch in channels_extended])\n",
    "mean_beta_task = np.mean([dfa_beta_task[ch] for ch in channels_extended])\n",
    "\n",
    "print(f\"Mean Raw DFA - Rest: {mean_raw_rest:.3f}\")\n",
    "print(f\"Mean Raw DFA - Task: {mean_raw_task:.3f}\")\n",
    "print(f\"Mean Beta DFA - Rest: {mean_beta_rest:.3f}\")\n",
    "print(f\"Mean Beta DFA - Task: {mean_beta_task:.3f}\")\n",
    "\n",
    "# Discuss findings\n",
    "print(\"\\nINTERPRETATION:\")\n",
    "print(\"-\" * 50)\n",
    "print(\"DFA α values interpretation:\")\n",
    "print(\"- α < 0.5: Anti-persistent (negatively correlated)\")\n",
    "print(\"- α ≈ 0.5: White noise (uncorrelated)\")\n",
    "print(\"- 0.5 < α < 1.0: Persistent long-range correlations\")\n",
    "print(\"- α ≈ 1.0: 1/f noise (pink noise)\")\n",
    "print(\"- α > 1.0: Non-stationary, unbounded\")\n",
    "\n",
    "# Check for significant differences\n",
    "if abs(mean_beta_task - mean_beta_rest) > 0.1:\n",
    "    print(\"\\nSignificant difference detected in beta band DFA between rest and task.\")\n",
    "    if mean_beta_task > mean_beta_rest:\n",
    "        print(\"Task condition shows more persistent correlations (more complexity).\")\n",
    "    else:\n",
    "        print(\"Rest condition shows more persistent correlations (more complexity).\")\n",
    "else:\n",
    "    print(\"\\nNo major differences detected in DFA scaling between rest and task.\")"
   ]
  },
  {
   "cell_type": "code",
   "execution_count": null,
   "metadata": {},
   "outputs": [],
   "source": []
  }
 ],
 "metadata": {
  "kernelspec": {
   "display_name": "Python 3",
   "language": "python",
   "name": "python3"
  },
  "language_info": {
   "codemirror_mode": {
    "name": "ipython",
    "version": 3
   },
   "file_extension": ".py",
   "mimetype": "text/x-python",
   "name": "python",
   "nbconvert_exporter": "python",
   "pygments_lexer": "ipython3",
   "version": "3.12.2"
  }
 },
 "nbformat": 4,
 "nbformat_minor": 2
}
