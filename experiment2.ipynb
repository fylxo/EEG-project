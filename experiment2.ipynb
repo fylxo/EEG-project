{
 "cells": [
  {
   "cell_type": "code",
   "execution_count": 1,
   "metadata": {},
   "outputs": [],
   "source": [
    "import mne\n",
    "import numpy as np\n",
    "import matplotlib.pyplot as plt\n",
    "import nolds\n",
    "\n",
    "from mne.datasets import eegbci\n",
    "from mne.io import concatenate_raws, read_raw_edf\n",
    "from mne.channels import make_standard_montage\n",
    "\n",
    "\n",
    "from scipy.signal import detrend\n",
    "from tqdm import tqdm\n",
    "from scipy.stats import linregress\n",
    "\n",
    "from mne.time_frequency import tfr_array_morlet\n",
    "from scipy.signal import hilbert, butter, filtfilt\n"
   ]
  },
  {
   "cell_type": "code",
   "execution_count": 2,
   "metadata": {},
   "outputs": [],
   "source": [
    "import my_functions2 as my_fun2"
   ]
  },
  {
   "cell_type": "code",
   "execution_count": 3,
   "metadata": {},
   "outputs": [
    {
     "name": "stdout",
     "output_type": "stream",
     "text": [
      "\n",
      "➡️ Loading REST | Runs: [1]\n",
      "Extracting EDF parameters from C:\\Users\\flavi\\mne_data\\MNE-eegbci-data\\files\\eegmmidb\\1.0.0\\S001\\S001R01.edf...\n",
      "EDF file detected\n",
      "Setting channel info structure...\n",
      "Creating raw.info structure...\n",
      "Reading 0 ... 9759  =      0.000 ...    60.994 secs...\n",
      "EEG channel type selected for re-referencing\n",
      "Adding average EEG reference projection.\n",
      "1 projection items deactivated\n",
      "Average reference projection was added, but has not been applied yet. Use the apply_proj method to apply it.\n",
      "Filtering raw data in 1 contiguous segment\n",
      "Setting up band-pass filter from 1 - 40 Hz\n",
      "\n",
      "FIR filter parameters\n",
      "---------------------\n",
      "Designing a one-pass, zero-phase, non-causal bandpass filter:\n",
      "- Windowed time-domain design (firwin) method\n",
      "- Hamming window with 0.0194 passband ripple and 53 dB stopband attenuation\n",
      "- Lower passband edge: 1.00\n",
      "- Lower transition bandwidth: 1.00 Hz (-6 dB cutoff frequency: 0.50 Hz)\n",
      "- Upper passband edge: 40.00 Hz\n",
      "- Upper transition bandwidth: 10.00 Hz (-6 dB cutoff frequency: 45.00 Hz)\n",
      "- Filter length: 529 samples (3.306 s)\n",
      "\n",
      "✅ rest | Shape: (64, 9760) | Duration: 1.02 min\n",
      "\n",
      "➡️ Loading MOTOR_EXECUTION | Runs: [3, 7, 11]\n",
      "Extracting EDF parameters from C:\\Users\\flavi\\mne_data\\MNE-eegbci-data\\files\\eegmmidb\\1.0.0\\S001\\S001R03.edf...\n",
      "EDF file detected\n",
      "Setting channel info structure...\n",
      "Creating raw.info structure...\n",
      "Reading 0 ... 19999  =      0.000 ...   124.994 secs...\n",
      "Extracting EDF parameters from C:\\Users\\flavi\\mne_data\\MNE-eegbci-data\\files\\eegmmidb\\1.0.0\\S001\\S001R07.edf...\n",
      "EDF file detected\n",
      "Setting channel info structure...\n",
      "Creating raw.info structure...\n",
      "Reading 0 ... 19999  =      0.000 ...   124.994 secs...\n",
      "Extracting EDF parameters from C:\\Users\\flavi\\mne_data\\MNE-eegbci-data\\files\\eegmmidb\\1.0.0\\S001\\S001R11.edf...\n",
      "EDF file detected\n",
      "Setting channel info structure...\n",
      "Creating raw.info structure...\n",
      "Reading 0 ... 19999  =      0.000 ...   124.994 secs...\n"
     ]
    },
    {
     "name": "stderr",
     "output_type": "stream",
     "text": [
      "[Parallel(n_jobs=1)]: Done  17 tasks      | elapsed:    0.0s\n"
     ]
    },
    {
     "name": "stdout",
     "output_type": "stream",
     "text": [
      "EEG channel type selected for re-referencing\n",
      "Adding average EEG reference projection.\n",
      "1 projection items deactivated\n",
      "Average reference projection was added, but has not been applied yet. Use the apply_proj method to apply it.\n",
      "Filtering raw data in 3 contiguous segments\n",
      "Setting up band-pass filter from 1 - 40 Hz\n",
      "\n",
      "FIR filter parameters\n",
      "---------------------\n",
      "Designing a one-pass, zero-phase, non-causal bandpass filter:\n",
      "- Windowed time-domain design (firwin) method\n",
      "- Hamming window with 0.0194 passband ripple and 53 dB stopband attenuation\n",
      "- Lower passband edge: 1.00\n",
      "- Lower transition bandwidth: 1.00 Hz (-6 dB cutoff frequency: 0.50 Hz)\n",
      "- Upper passband edge: 40.00 Hz\n",
      "- Upper transition bandwidth: 10.00 Hz (-6 dB cutoff frequency: 45.00 Hz)\n",
      "- Filter length: 529 samples (3.306 s)\n",
      "\n",
      "✅ motor_execution | Shape: (64, 60000) | Duration: 6.25 min\n",
      "\n",
      "➡️ Loading MOTOR_IMAGERY | Runs: [4, 8, 12]\n",
      "Extracting EDF parameters from C:\\Users\\flavi\\mne_data\\MNE-eegbci-data\\files\\eegmmidb\\1.0.0\\S001\\S001R04.edf...\n",
      "EDF file detected\n",
      "Setting channel info structure...\n",
      "Creating raw.info structure...\n"
     ]
    },
    {
     "name": "stderr",
     "output_type": "stream",
     "text": [
      "[Parallel(n_jobs=1)]: Done  17 tasks      | elapsed:    0.0s\n"
     ]
    },
    {
     "name": "stdout",
     "output_type": "stream",
     "text": [
      "Reading 0 ... 19999  =      0.000 ...   124.994 secs...\n",
      "Extracting EDF parameters from C:\\Users\\flavi\\mne_data\\MNE-eegbci-data\\files\\eegmmidb\\1.0.0\\S001\\S001R08.edf...\n",
      "EDF file detected\n",
      "Setting channel info structure...\n",
      "Creating raw.info structure...\n",
      "Reading 0 ... 19999  =      0.000 ...   124.994 secs...\n",
      "Extracting EDF parameters from C:\\Users\\flavi\\mne_data\\MNE-eegbci-data\\files\\eegmmidb\\1.0.0\\S001\\S001R12.edf...\n",
      "EDF file detected\n",
      "Setting channel info structure...\n",
      "Creating raw.info structure...\n",
      "Reading 0 ... 19999  =      0.000 ...   124.994 secs...\n",
      "EEG channel type selected for re-referencing\n",
      "Adding average EEG reference projection.\n",
      "1 projection items deactivated\n",
      "Average reference projection was added, but has not been applied yet. Use the apply_proj method to apply it.\n",
      "Filtering raw data in 3 contiguous segments\n",
      "Setting up band-pass filter from 1 - 40 Hz\n",
      "\n",
      "FIR filter parameters\n",
      "---------------------\n",
      "Designing a one-pass, zero-phase, non-causal bandpass filter:\n",
      "- Windowed time-domain design (firwin) method\n",
      "- Hamming window with 0.0194 passband ripple and 53 dB stopband attenuation\n",
      "- Lower passband edge: 1.00\n",
      "- Lower transition bandwidth: 1.00 Hz (-6 dB cutoff frequency: 0.50 Hz)\n",
      "- Upper passband edge: 40.00 Hz\n",
      "- Upper transition bandwidth: 10.00 Hz (-6 dB cutoff frequency: 45.00 Hz)\n",
      "- Filter length: 529 samples (3.306 s)\n",
      "\n",
      "✅ motor_imagery | Shape: (64, 60000) | Duration: 6.25 min\n"
     ]
    },
    {
     "name": "stderr",
     "output_type": "stream",
     "text": [
      "[Parallel(n_jobs=1)]: Done  17 tasks      | elapsed:    0.0s\n"
     ]
    }
   ],
   "source": [
    "subject = 1\n",
    "runs = {\n",
    "    \"rest\": [1],\n",
    "    \"motor_execution\": [3, 7, 11],\n",
    "    \"motor_imagery\": [4, 8, 12]\n",
    "}\n",
    "\n",
    "subject_data = my_fun2.load_and_preprocess_subject(subject, runs)"
   ]
  },
  {
   "cell_type": "code",
   "execution_count": null,
   "metadata": {},
   "outputs": [
    {
     "name": "stdout",
     "output_type": "stream",
     "text": [
      "Using matplotlib as 2D backend.\n"
     ]
    },
    {
     "name": "stdout",
     "output_type": "stream",
     "text": [
      "Channels marked as bad:\n",
      "none\n",
      "Channels marked as bad:\n",
      "none\n"
     ]
    }
   ],
   "source": [
    "%matplotlib qt\n",
    "\n",
    "# Debug plot (rest condition)\n",
    "my_fun2.quick_plot(subject_data[\"rest\"], title=f\"Subject {subject} | REST\")\n",
    "\n",
    "# Quick check of motor\n",
    "my_fun2.quick_plot(subject_data[\"motor_execution\"], title=f\"Subject {subject} | MOTOR EXECUTION\")"
   ]
  },
  {
   "cell_type": "code",
   "execution_count": 5,
   "metadata": {},
   "outputs": [
    {
     "name": "stdout",
     "output_type": "stream",
     "text": [
      "Used Annotations descriptions: ['T0']\n",
      "\n",
      "⏺️ Used Annotations descriptions: ['T0']\n",
      "Not setting metadata\n",
      "1 matching events found\n",
      "No baseline correction applied\n",
      "Created an SSP operator (subspace dimension = 1)\n",
      "1 projection items activated\n",
      "Using data from preloaded Raw for 1 events and 641 original time points ...\n",
      "0 bad epochs dropped\n",
      "⚠️ No T1/T2 (TASK) events found.\n",
      "📊 Extracted 1 REST epochs & 0 TASK epochs\n",
      "Used Annotations descriptions: ['T0', 'T1', 'T2']\n",
      "\n",
      "⏺️ Used Annotations descriptions: ['T0', 'T1', 'T2']\n",
      "Not setting metadata\n",
      "45 matching events found\n",
      "No baseline correction applied\n",
      "Created an SSP operator (subspace dimension = 1)\n",
      "1 projection items activated\n",
      "Using data from preloaded Raw for 45 events and 641 original time points ...\n",
      "0 bad epochs dropped\n",
      "Not setting metadata\n",
      "45 matching events found\n",
      "No baseline correction applied\n",
      "Created an SSP operator (subspace dimension = 1)\n",
      "1 projection items activated\n",
      "Using data from preloaded Raw for 45 events and 641 original time points ...\n",
      "0 bad epochs dropped\n",
      "📊 Extracted 45 REST epochs & 45 TASK epochs\n",
      "Used Annotations descriptions: ['T0', 'T1', 'T2']\n",
      "\n",
      "⏺️ Used Annotations descriptions: ['T0', 'T1', 'T2']\n",
      "Not setting metadata\n",
      "45 matching events found\n",
      "No baseline correction applied\n",
      "Created an SSP operator (subspace dimension = 1)\n",
      "1 projection items activated\n",
      "Using data from preloaded Raw for 45 events and 641 original time points ...\n",
      "0 bad epochs dropped\n",
      "Not setting metadata\n",
      "45 matching events found\n",
      "No baseline correction applied\n",
      "Created an SSP operator (subspace dimension = 1)\n",
      "1 projection items activated\n",
      "Using data from preloaded Raw for 45 events and 641 original time points ...\n",
      "0 bad epochs dropped\n",
      "📊 Extracted 45 REST epochs & 45 TASK epochs\n"
     ]
    }
   ],
   "source": [
    "# Extract epochs from each condition\n",
    "epochs_rest = my_fun2.extract_clean_epochs(subject_data[\"rest\"])\n",
    "epochs_exec = my_fun2.extract_clean_epochs(subject_data[\"motor_execution\"])\n",
    "epochs_imag = my_fun2.extract_clean_epochs(subject_data[\"motor_imagery\"])"
   ]
  },
  {
   "cell_type": "code",
   "execution_count": 6,
   "metadata": {},
   "outputs": [
    {
     "name": "stdout",
     "output_type": "stream",
     "text": [
      "Not setting metadata\n",
      "91 matching events found\n",
      "No baseline correction applied\n",
      "Created an SSP operator (subspace dimension = 1)\n",
      "Not setting metadata\n",
      "90 matching events found\n",
      "No baseline correction applied\n",
      "Created an SSP operator (subspace dimension = 1)\n"
     ]
    },
    {
     "name": "stderr",
     "output_type": "stream",
     "text": [
      "C:\\Users\\flavi\\AppData\\Local\\Temp\\ipykernel_41276\\3048036301.py:1: RuntimeWarning: Concatenation of Annotations within Epochs is not supported yet. All annotations will be dropped.\n",
      "  combined_rest = mne.concatenate_epochs([\n",
      "C:\\Users\\flavi\\AppData\\Local\\Temp\\ipykernel_41276\\3048036301.py:7: RuntimeWarning: Concatenation of Annotations within Epochs is not supported yet. All annotations will be dropped.\n",
      "  combined_task = mne.concatenate_epochs([\n"
     ]
    }
   ],
   "source": [
    "combined_rest = mne.concatenate_epochs([\n",
    "    epochs_exec['rest'], \n",
    "    epochs_imag['rest'], \n",
    "    epochs_rest['rest']\n",
    "])\n",
    "\n",
    "combined_task = mne.concatenate_epochs([\n",
    "    epochs_exec['task'], \n",
    "    epochs_imag['task']\n",
    "])\n",
    "\n",
    "# Shuffle task epochs \n",
    "shuffled_indices = np.random.permutation(len(combined_task))\n",
    "combined_task = combined_task[shuffled_indices]"
   ]
  },
  {
   "cell_type": "code",
   "execution_count": null,
   "metadata": {},
   "outputs": [],
   "source": [
    "%matplotlib qt \n",
    "#combined_task.plot(n_channels=8, title=\"Combined Task Epochs\")"
   ]
  },
  {
   "cell_type": "markdown",
   "metadata": {},
   "source": [
    "# DFA Analysis\n",
    "\n",
    "α ≈ 0.7–1.0: Indicates long-range temporal correlations (LRTC) and near-critical dynamics"
   ]
  },
  {
   "cell_type": "code",
   "execution_count": 7,
   "metadata": {},
   "outputs": [
    {
     "name": "stdout",
     "output_type": "stream",
     "text": [
      "Rest Alpha Values: {'C3': 0.48820945778786223, 'Cz': 0.4947144071605881, 'C4': 0.49333113617619306}\n",
      "Task Alpha Values: {'C3': 0.4848297426072331, 'Cz': 0.4788085346613098, 'C4': 0.4854755032495091}\n"
     ]
    }
   ],
   "source": [
    "alpha_rest = my_fun2.compute_dfa_from_epochs(combined_rest, picks=['C3', 'Cz', 'C4'])\n",
    "alpha_task = my_fun2.compute_dfa_from_epochs(combined_task, picks=['C3', 'Cz', 'C4'])\n",
    "\n",
    "print(\"Rest Alpha Values:\", alpha_rest)\n",
    "print(\"Task Alpha Values:\", alpha_task)"
   ]
  },
  {
   "cell_type": "code",
   "execution_count": 8,
   "metadata": {},
   "outputs": [
    {
     "name": "stdout",
     "output_type": "stream",
     "text": [
      "DFA exponent (Cz, rest): 0.485\n"
     ]
    }
   ],
   "source": [
    "# Extract EEG signal (flatten Cz channel from rest condition)\n",
    "signal = combined_task.get_data(picks=\"C3\").reshape(-1)\n",
    "\n",
    "# Compute DFA\n",
    "alpha = my_fun2.compute_dfa(signal)\n",
    "print(f\"DFA exponent (Cz, rest): {alpha:.3f}\")"
   ]
  },
  {
   "cell_type": "code",
   "execution_count": null,
   "metadata": {},
   "outputs": [
    {
     "name": "stderr",
     "output_type": "stream",
     "text": [
      "Computing F(n) per channel:  33%|███▎      | 1/3 [01:41<03:22, 101.10s/it]"
     ]
    }
   ],
   "source": [
    "# Extract data (e.g., rest condition)\n",
    "data_rest = combined_rest.get_data(picks=['C3', 'Cz', 'C4'])  # shape: (n_epochs, n_channels, n_times)\n",
    "X_rest = data_rest.transpose(1, 0, 2).reshape(data_rest.shape[1], -1)  # (channels, time)\n",
    "\n",
    "# Define segment sizes\n",
    "segment_sizes = np.geomspace(30, X_rest.shape[1] // 5, 20).astype(int)\n",
    "\n",
    "# Compute DFA\n",
    "F_rest = my_fun2.compute_F(X_rest, segment_sizes)\n",
    "alpha_rest, intercept_rest, _, _ = my_fun2.compute_DFA(segment_sizes, F_rest, fitting_range=(50, 10000))\n",
    "\n",
    "# Plot\n",
    "my_fun2.plot_dfa_fit(segment_sizes, F_rest, alpha_rest, intercept_rest, fitting_range=(50, 10000))"
   ]
  },
  {
   "cell_type": "code",
   "execution_count": null,
   "metadata": {},
   "outputs": [],
   "source": [
    "# Extract data (e.g., rest condition)\n",
    "data_rest = combined_task.get_data(picks=['C3', 'Cz', 'C4'])  # shape: (n_epochs, n_channels, n_times)\n",
    "X_rest = data_rest.transpose(1, 0, 2).reshape(data_rest.shape[1], -1)  # (channels, time)\n",
    "\n",
    "# Define segment sizes\n",
    "segment_sizes = np.geomspace(30, X_rest.shape[1] // 5, 20).astype(int)\n",
    "\n",
    "# Compute DFA\n",
    "F_rest = my_fun2.compute_F(X_rest, segment_sizes)\n",
    "alpha_rest, intercept_rest, _, _ = my_fun2.compute_DFA(segment_sizes, F_rest, fitting_range=(50, 10000))\n",
    "\n",
    "# Plot\n",
    "my_fun2.plot_dfa_fit(segment_sizes, F_rest, alpha_rest, intercept_rest, fitting_range=(50, 10000))"
   ]
  },
  {
   "cell_type": "code",
   "execution_count": null,
   "metadata": {},
   "outputs": [],
   "source": [
    "alpha_beta_rest = my_fun2.run_band_limited_dfa(combined_rest, channel=\"Cz\", band=(13, 30))\n",
    "alpha_beta_task = my_fun2.run_band_limited_dfa(combined_task, channel=\"Cz\", band=(13, 30))\n",
    "\n",
    "print(f\"Beta DFA (Rest - Cz): {alpha_beta_rest:.3f}\")\n",
    "print(f\"Beta DFA (Task - Cz): {alpha_beta_task:.3f}\")\n"
   ]
  },
  {
   "cell_type": "code",
   "execution_count": null,
   "metadata": {},
   "outputs": [],
   "source": [
    "# 1. Get envelope from Cz, 13 Hz (alpha)\n",
    "envelope = my_fun2.xtract_wavelet_envelope(combined_rest, channel=\"Cz\", sfreq=combined_rest.info['sfreq'], freq=13)\n",
    "\n",
    "# 2. Define segment sizes\n",
    "segment_sizes = np.unique(np.logspace(2, np.log10(len(envelope)/5), num=20, base=10).astype(int))\n",
    "\n",
    "# 3. Compute F(n)\n",
    "F = my_fun2.compute_fluctuation_function(envelope, segment_sizes)\n",
    "\n",
    "# 4. Fit alpha\n",
    "alpha, _ = my_fun2.compute_dfa_scaling(segment_sizes, F)\n",
    "\n",
    "# 5. Plot\n",
    "plt.figure(figsize=(8, 5))\n",
    "plt.loglog(segment_sizes, F, 'o-', label=f\"Cz (α = {alpha:.3f})\")\n",
    "plt.xlabel(\"log(Window size)\")\n",
    "plt.ylabel(\"log(Fluctuation)\")\n",
    "plt.title(\"DFA on Alpha Envelope – Cz (Rest)\")\n",
    "plt.grid(True)\n",
    "plt.legend()\n",
    "plt.tight_layout()\n",
    "plt.show()"
   ]
  },
  {
   "cell_type": "code",
   "execution_count": null,
   "metadata": {},
   "outputs": [],
   "source": []
  }
 ],
 "metadata": {
  "kernelspec": {
   "display_name": "Python 3",
   "language": "python",
   "name": "python3"
  },
  "language_info": {
   "codemirror_mode": {
    "name": "ipython",
    "version": 3
   },
   "file_extension": ".py",
   "mimetype": "text/x-python",
   "name": "python",
   "nbconvert_exporter": "python",
   "pygments_lexer": "ipython3",
   "version": "3.12.2"
  }
 },
 "nbformat": 4,
 "nbformat_minor": 2
}
