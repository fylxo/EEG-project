{
 "cells": [
  {
   "cell_type": "code",
   "execution_count": 1,
   "metadata": {},
   "outputs": [],
   "source": [
    "import os\n",
    "import json\n",
    "import mne\n",
    "import scipy\n",
    "\n",
    "import numpy as np\n",
    "import pandas as pd\n",
    "import scipy.stats as stats\n",
    "import matplotlib.pyplot as plt\n",
    "import seaborn as sns\n",
    "\n",
    "from mne.preprocessing import ICA\n",
    "from mne.time_frequency import psd_array_welch\n",
    "from scipy.signal import hilbert, coherence\n",
    "\n",
    "try:\n",
    "    import PyQt5.QtCore\n",
    "    %matplotlib qt\n",
    "except ImportError:\n",
    "    %matplotlib inline\n",
    "\n",
    "mne.set_log_level('WARNING')"
   ]
  },
  {
   "cell_type": "code",
   "execution_count": 2,
   "metadata": {},
   "outputs": [
    {
     "ename": "SyntaxError",
     "evalue": "'[' was never closed (my_visualization_functions.py, line 256)",
     "output_type": "error",
     "traceback": [
      "Traceback \u001b[1;36m(most recent call last)\u001b[0m:\n",
      "\u001b[0m  File \u001b[0;32mc:\\Users\\flavi\\AppData\\Local\\Programs\\Python\\Python312\\Lib\\site-packages\\IPython\\core\\interactiveshell.py:3553\u001b[0m in \u001b[0;35mrun_code\u001b[0m\n    exec(code_obj, self.user_global_ns, self.user_ns)\u001b[0m\n",
      "\u001b[1;36m  Cell \u001b[1;32mIn[2], line 2\u001b[1;36m\n\u001b[1;33m    import my_visualization_functions as my_vis_fun\u001b[1;36m\n",
      "\u001b[1;36m  File \u001b[1;32mc:\\Users\\flavi\\Desktop\\GABS Project\\EEG-project\\my_visualization_functions.py:256\u001b[1;36m\u001b[0m\n\u001b[1;33m    group_accuracies = [\u001b[0m\n\u001b[1;37m                       ^\u001b[0m\n\u001b[1;31mSyntaxError\u001b[0m\u001b[1;31m:\u001b[0m '[' was never closed\n"
     ]
    }
   ],
   "source": [
    "import my_functions as my_fun\n",
    "import my_visualization_functions as my_vis_fun"
   ]
  },
  {
   "cell_type": "code",
   "execution_count": null,
   "metadata": {},
   "outputs": [],
   "source": [
    "# Define subjects to process\n",
    "subjects = [f\"S{str(i).zfill(3)}\" for i in range(1, 20)]  \n",
    "data_path = \"eeg-motor-movementimagery-dataset-1.0.0/files/\""
   ]
  },
  {
   "cell_type": "code",
   "execution_count": null,
   "metadata": {},
   "outputs": [],
   "source": [
    "# Process EEG data\n",
    "eeg_data = my_fun.process_eeg(subjects=subjects, data_path=data_path, mode=\"automatic\", apply_ica=False)"
   ]
  },
  {
   "cell_type": "markdown",
   "metadata": {},
   "source": [
    "## Visualization for one subject"
   ]
  },
  {
   "cell_type": "code",
   "execution_count": null,
   "metadata": {},
   "outputs": [],
   "source": [
    "subject = \"S001\" \n",
    "condition = \"real_right_hand\"  # real_left_hand or imagined_left_hand\n",
    "epochs = eeg_data[subject][condition][0]"
   ]
  },
  {
   "cell_type": "code",
   "execution_count": null,
   "metadata": {},
   "outputs": [],
   "source": [
    "my_vis_fun.plot_raw_eeg(eeg_data[subject][condition][0], subject, condition)"
   ]
  },
  {
   "cell_type": "code",
   "execution_count": null,
   "metadata": {},
   "outputs": [],
   "source": [
    "my_vis_fun.plot_erd_ers(epochs, subject, condition)"
   ]
  },
  {
   "cell_type": "markdown",
   "metadata": {},
   "source": [
    "## PLV and Coherence Pipeline for one subject"
   ]
  },
  {
   "cell_type": "code",
   "execution_count": null,
   "metadata": {},
   "outputs": [],
   "source": [
    "real_epochs = mne.concatenate_epochs(eeg_data[subject]['real_right_hand'])\n",
    "imagined_epochs = mne.concatenate_epochs(eeg_data[subject]['imagined_right_hand'])\n",
    "rest_epochs = mne.concatenate_epochs(eeg_data[subject]['rest'])"
   ]
  },
  {
   "cell_type": "code",
   "execution_count": null,
   "metadata": {},
   "outputs": [],
   "source": [
    "plv_real = my_fun.compute_plv_matrix(real_epochs)\n",
    "plv_imagined = my_fun.compute_plv_matrix(imagined_epochs)\n",
    "plv_rest = my_fun.compute_plv_matrix(rest_epochs)"
   ]
  },
  {
   "cell_type": "code",
   "execution_count": null,
   "metadata": {},
   "outputs": [],
   "source": [
    "my_vis_fun.plot_plv_matrix(plv_real, real_epochs.ch_names, title=\"PLV - Real Right Hand\")\n",
    "my_vis_fun.plot_plv_matrix(plv_imagined, imagined_epochs.ch_names, title=\"PLV - Imagined Right Hand\")\n",
    "my_vis_fun.plot_plv_matrix(plv_rest, rest_epochs.ch_names, title=\"PLV - Rest\")"
   ]
  },
  {
   "cell_type": "code",
   "execution_count": null,
   "metadata": {},
   "outputs": [],
   "source": [
    "my_vis_fun.plot_plv_difference(plv_real, plv_imagined, real_epochs.ch_names)\n",
    "my_vis_fun.plot_plv_difference(plv_real, plv_rest, real_epochs.ch_names, title=\"PLV Difference (Real - Rest)\")"
   ]
  },
  {
   "cell_type": "code",
   "execution_count": null,
   "metadata": {},
   "outputs": [],
   "source": [
    "my_vis_fun.plot_motor_plv_difference(plv_real, plv_imagined, real_epochs.ch_names, title=\"PLV (Motor Cortex) - Real Right Hand\")"
   ]
  },
  {
   "cell_type": "markdown",
   "metadata": {},
   "source": [
    "## PLV and Coherence Pipeline for multiple subjects"
   ]
  },
  {
   "cell_type": "code",
   "execution_count": null,
   "metadata": {},
   "outputs": [],
   "source": [
    "subjects = [f\"S{str(i).zfill(3)}\" for i in range(1, 70)]  \n",
    "\n",
    "plv_results = {\"real\": [], \"imagined\": [], \"rest\": []}\n",
    "\n",
    "eeg_data_all = {}  # <-- Store all subjects\n",
    "\n",
    "for subject in subjects:\n",
    "    print(f\"\\n🚀 Processing {subject}...\")\n",
    "    \n",
    "    eeg_data = my_fun.process_eeg([subject], data_path=\"eeg-motor-movementimagery-dataset-1.0.0/files/\", mode=\"automatic\", apply_ica=False)\n",
    "\n",
    "    # Merge subject's data into master dict\n",
    "    eeg_data_all.update(eeg_data)\n",
    "\n",
    "    # Compute PLV matrix\n",
    "    real_epochs = mne.concatenate_epochs(eeg_data[subject][\"real_right_hand\"])\n",
    "    imagined_epochs = mne.concatenate_epochs(eeg_data[subject][\"imagined_right_hand\"])\n",
    "    rest_epochs = mne.concatenate_epochs(eeg_data[subject][\"rest\"])\n",
    "\n",
    "    plv_real = my_fun.compute_plv_matrix(real_epochs)\n",
    "    plv_imagined = my_fun.compute_plv_matrix(imagined_epochs)\n",
    "    plv_rest = my_fun.compute_plv_matrix(rest_epochs)\n",
    "\n",
    "    plv_results[\"real\"].append(plv_real)\n",
    "    plv_results[\"imagined\"].append(plv_imagined)\n",
    "    plv_results[\"rest\"].append(plv_rest)\n"
   ]
  },
  {
   "cell_type": "code",
   "execution_count": null,
   "metadata": {},
   "outputs": [],
   "source": [
    "plv_real_group = np.mean(plv_results[\"real\"], axis=0)\n",
    "plv_imagined_group = np.mean(plv_results[\"imagined\"], axis=0)\n",
    "plv_rest_group = np.mean(plv_results[\"rest\"], axis=0)"
   ]
  },
  {
   "cell_type": "code",
   "execution_count": null,
   "metadata": {},
   "outputs": [],
   "source": [
    "my_vis_fun.plot_plv_matrix(plv_real_group, real_epochs.ch_names, title=\"Group Average PLV - Real Right Hand\")\n",
    "my_vis_fun.plot_plv_matrix(plv_imagined_group, imagined_epochs.ch_names, title=\"Group Average PLV - Imagined Right Hand\")\n",
    "my_vis_fun.plot_plv_matrix(plv_imagined_group, imagined_epochs.ch_names, title=\"Group Average PLV - Rest\")\n",
    "\n",
    "my_vis_fun.plot_plv_difference(plv_real_group, plv_imagined_group, real_epochs.ch_names)\n",
    "my_vis_fun.plot_plv_difference(plv_real_group, plv_rest_group, real_epochs.ch_names, title=\"PLV Difference (Real - Rest)\")\n",
    "\n",
    "#my_vis_fun.plot_motor_plv_difference(plv_real_group, plv_imagined_group, real_epochs.ch_names)"
   ]
  },
  {
   "cell_type": "code",
   "execution_count": null,
   "metadata": {},
   "outputs": [],
   "source": [
    "# Define subjects and channel pairs\n",
    "#subjects = [\"S001\", \"S002\", \"S005\"]\n",
    "conditions = {\"real\": \"real_right_hand\", \"imagined\": \"imagined_right_hand\", \"rest\": \"rest\"} \n",
    "\n",
    "channel_pairs = [\n",
    "    (\"C3\", \"C4\"),  # Primary motor cortex\n",
    "    (\"C1\", \"C2\"),  # Central midline\n",
    "    (\"FC3\", \"FC4\"),  # Frontal-motor\n",
    "    (\"Cz\", \"CPz\"),  # Midline execution\n",
    "    (\"CP3\", \"CP4\"),  # Parietal-motor\n",
    "    (\"Fz\", \"Cz\"),  # Frontal-central connection\n",
    "    (\"O1\", \"O2\"),  # Occipital \n",
    "    (\"PO7\", \"PO8\"),  # Parietal\n",
    "    (\"Fp1\", \"PO8\")   # Prefrontal\n",
    "]\n",
    "\n",
    "# Analyze\n",
    "df_plv_coh = my_fun.analyze_pairwise_plv_coherence(subjects, eeg_data_all, conditions, channel_pairs)\n",
    "\n",
    "# Plot!\n",
    "my_vis_fun.plot_plv_coherence(df_plv_coh, metric=\"PLV Mean\")\n",
    "my_vis_fun.plot_plv_coherence(df_plv_coh, metric=\"Coherence Mean\")"
   ]
  },
  {
   "cell_type": "code",
   "execution_count": null,
   "metadata": {},
   "outputs": [],
   "source": [
    "df_stats = my_fun.paired_ttest_plv(df_plv_coh, metric=\"PLV Mean\")\n",
    "my_fun.report_paired_ttests(df_stats)"
   ]
  },
  {
   "cell_type": "markdown",
   "metadata": {},
   "source": [
    "# Time Frequency Representation Analysis"
   ]
  },
  {
   "cell_type": "code",
   "execution_count": null,
   "metadata": {},
   "outputs": [],
   "source": [
    "# For each condition (real, imagined, rest)\n",
    "freqs = np.arange(5, 40, 1)  # 5-40 Hz range\n",
    "n_cycles = freqs / 2\n",
    "\n",
    "power_real = my_fun.tfr_morlet(real_epochs, freqs=freqs, n_cycles=n_cycles, return_itc=False)\n",
    "power_imagined = my_fun.tfr_morlet(imagined_epochs, freqs=freqs, n_cycles=n_cycles, return_itc=False)\n",
    "power_rest = my_fun.tfr_morlet(rest_epochs, freqs=freqs, n_cycles=n_cycles, return_itc=False)"
   ]
  },
  {
   "cell_type": "code",
   "execution_count": null,
   "metadata": {},
   "outputs": [],
   "source": [
    "# Plot time-frequency plots for key channels (C3, C4)\n",
    "power_real.plot_joint(title='Real Movement', picks=['C3', 'C4'])\n",
    "power_imagined.plot_joint(title='Imagined Movement', picks=['C3', 'C4'])\n",
    "power_rest.plot_joint(title='Rest', picks=['C3', 'C4'])"
   ]
  },
  {
   "cell_type": "markdown",
   "metadata": {},
   "source": [
    "# Classification / Decoding Part"
   ]
  },
  {
   "cell_type": "code",
   "execution_count": null,
   "metadata": {},
   "outputs": [],
   "source": [
    "# 1. Run classification on both condition pairs\n",
    "group_results, individual_results = my_fun.classify_condition_pairs(eeg_data, subjects)\n",
    "\n",
    "# 2. Visualize the comparison\n",
    "summary = my_vis_fun.visualize_comparison(group_results, individual_results)"
   ]
  },
  {
   "cell_type": "markdown",
   "metadata": {},
   "source": [
    "# Frequency Bands and Time Window Analysis"
   ]
  },
  {
   "cell_type": "code",
   "execution_count": null,
   "metadata": {},
   "outputs": [],
   "source": [
    "# Run the frequency band analysis\n",
    "band_results, band_names = my_fun.analyze_frequency_bands(eeg_data, subjects)"
   ]
  },
  {
   "cell_type": "code",
   "execution_count": null,
   "metadata": {},
   "outputs": [],
   "source": [
    "# Run the time window analysis\n",
    "window_results, window_names = my_fun.analyze_time_windows(eeg_data, subjects)"
   ]
  },
  {
   "cell_type": "markdown",
   "metadata": {},
   "source": [
    "# New  Things 2"
   ]
  },
  {
   "cell_type": "code",
   "execution_count": null,
   "metadata": {},
   "outputs": [],
   "source": [
    "import numpy as np\n",
    "\n",
    "def compute_mean_topographies(epochs_dict, picks=None):\n",
    "    \"\"\"\n",
    "    Compute the average topography for each condition from epochs.\n",
    "    \n",
    "    Parameters\n",
    "    ----------\n",
    "    epochs_dict : dict\n",
    "        Dictionary with keys like 'rest', 'motor_execution', 'motor_imagery' and MNE Epochs as values.\n",
    "    picks : list or None\n",
    "        EEG channels to include.\n",
    "    \n",
    "    Returns\n",
    "    -------\n",
    "    topographies : dict\n",
    "        Dictionary of condition -> average topography (n_channels,)\n",
    "    \"\"\"\n",
    "    topographies = {}\n",
    "    for condition, epochs in epochs_dict.items():\n",
    "        data = epochs.get_data(picks=picks)  # shape: (n_epochs, n_channels, n_times)\n",
    "        mean_topo = data.mean(axis=(0, 2))   # average over epochs and time\n",
    "        topographies[condition] = mean_topo\n",
    "    return topographies\n"
   ]
  },
  {
   "cell_type": "code",
   "execution_count": null,
   "metadata": {},
   "outputs": [],
   "source": [
    "from scipy.spatial.distance import pdist, squareform\n",
    "\n",
    "def compute_rdm(topographies):\n",
    "    \"\"\"\n",
    "    Compute representational dissimilarity matrix (1 - Pearson correlation).\n",
    "    \n",
    "    Parameters\n",
    "    ----------\n",
    "    topographies : dict\n",
    "        Dictionary of condition -> mean topography.\n",
    "    \n",
    "    Returns\n",
    "    -------\n",
    "    rdm : ndarray\n",
    "        Square dissimilarity matrix (n_conditions x n_conditions).\n",
    "    labels : list\n",
    "        Condition names (for plotting).\n",
    "    \"\"\"\n",
    "    labels = list(topographies.keys())\n",
    "    vectors = np.array([topographies[label] for label in labels])\n",
    "    \n",
    "    # Dissimilarity = 1 - Pearson correlation\n",
    "    correlation = np.corrcoef(vectors)\n",
    "    dissimilarity = 1 - correlation\n",
    "    \n",
    "    return dissimilarity, labels\n"
   ]
  },
  {
   "cell_type": "code",
   "execution_count": null,
   "metadata": {},
   "outputs": [],
   "source": [
    "from sklearn.manifold import MDS\n",
    "import matplotlib.pyplot as plt\n",
    "\n",
    "def plot_mds_from_rdm(rdm, labels, title=\"RSA: MDS Visualization\"):\n",
    "    \"\"\"\n",
    "    Project dissimilarity matrix into 2D using MDS and plot.\n",
    "    \"\"\"\n",
    "    mds = MDS(n_components=2, dissimilarity='precomputed', random_state=42)\n",
    "    coords = mds.fit_transform(rdm)\n",
    "\n",
    "    plt.figure(figsize=(6, 5))\n",
    "    for i, label in enumerate(labels):\n",
    "        plt.scatter(*coords[i], label=label, s=100)\n",
    "        plt.text(coords[i, 0] + 0.01, coords[i, 1], label, fontsize=12)\n",
    "    \n",
    "    plt.title(title)\n",
    "    plt.xlabel(\"MDS Dimension 1\")\n",
    "    plt.ylabel(\"MDS Dimension 2\")\n",
    "    plt.grid(True, linestyle=\"--\", alpha=0.4)\n",
    "    plt.legend()\n",
    "    plt.tight_layout()\n",
    "    plt.show()\n"
   ]
  },
  {
   "cell_type": "code",
   "execution_count": null,
   "metadata": {},
   "outputs": [],
   "source": [
    "from sklearn.manifold import TSNE\n",
    "\n",
    "def plot_tsne_from_topographies(topographies, title=\"RSA: t-SNE Visualization\"):\n",
    "    \"\"\"\n",
    "    Use t-SNE to project topographies into 2D space.\n",
    "    \"\"\"\n",
    "    labels = list(topographies.keys())\n",
    "    vectors = np.array([topographies[label] for label in labels])\n",
    "    \n",
    "    tsne = TSNE(n_components=2, perplexity=5, random_state=42)\n",
    "    coords = tsne.fit_transform(vectors)\n",
    "\n",
    "    plt.figure(figsize=(6, 5))\n",
    "    for i, label in enumerate(labels):\n",
    "        plt.scatter(*coords[i], label=label, s=100)\n",
    "        plt.text(coords[i, 0] + 0.01, coords[i, 1], label, fontsize=12)\n",
    "\n",
    "    plt.title(title)\n",
    "    plt.xlabel(\"t-SNE Dim 1\")\n",
    "    plt.ylabel(\"t-SNE Dim 2\")\n",
    "    plt.grid(True, linestyle=\"--\", alpha=0.4)\n",
    "    plt.legend()\n",
    "    plt.tight_layout()\n",
    "    plt.show()\n"
   ]
  },
  {
   "cell_type": "code",
   "execution_count": null,
   "metadata": {},
   "outputs": [],
   "source": [
    "epochs_dict = {\n",
    "    'rest': combined_rest,\n",
    "    'motor_execution': epochs_exec['task'],\n",
    "    'motor_imagery': epochs_imag['task']\n",
    "}\n"
   ]
  },
  {
   "cell_type": "code",
   "execution_count": null,
   "metadata": {},
   "outputs": [],
   "source": [
    "topos = compute_mean_topographies(epochs_dict, picks=['C3', 'Cz', 'C4'])\n",
    "rdm, labels = compute_rdm(topos)\n",
    "plot_mds_from_rdm(rdm, labels)\n",
    "# or\n",
    "plot_tsne_from_topographies(topos)\n"
   ]
  },
  {
   "cell_type": "code",
   "execution_count": null,
   "metadata": {},
   "outputs": [],
   "source": [
    "import numpy as np\n",
    "import matplotlib.pyplot as plt\n",
    "from sklearn.metrics import pairwise_distances\n",
    "from sklearn.manifold import MDS\n",
    "\n",
    "def compute_rsa_and_plot_mds(epochs_dict, picks=None, metric=\"correlation\"):\n",
    "    \"\"\"\n",
    "    Compute Representational Similarity (RSA) using correlation distance and visualize with MDS.\n",
    "    \n",
    "    Parameters:\n",
    "    -----------\n",
    "    epochs_dict : dict\n",
    "        Dictionary with keys 'rest', 'motor_execution', 'motor_imagery' and values as mne.Epochs objects.\n",
    "    picks : list or None\n",
    "        Channel picks. If None, all channels are used.\n",
    "    metric : str\n",
    "        Distance metric to use (default = 'correlation').\n",
    "    \"\"\"\n",
    "    condition_names = list(epochs_dict.keys())\n",
    "    avg_patterns = []\n",
    "\n",
    "    # Step 1: Compute mean spatial pattern for each condition\n",
    "    for cond in condition_names:\n",
    "        data = epochs_dict[cond].get_data(picks=picks)  # shape: (n_epochs, n_channels, n_times)\n",
    "        avg_pattern = np.mean(data, axis=(0, 2))  # average over epochs and time -> shape: (n_channels,)\n",
    "        avg_patterns.append(avg_pattern)\n",
    "\n",
    "    avg_patterns = np.array(avg_patterns)\n",
    "\n",
    "    # Step 2: Compute pairwise dissimilarities (e.g., 1 - correlation)\n",
    "    dist_matrix = pairwise_distances(avg_patterns, metric=metric)\n",
    "\n",
    "    # Step 3: MDS to project into 2D space\n",
    "    mds = MDS(n_components=2, dissimilarity='precomputed', random_state=42)\n",
    "    coords = mds.fit_transform(dist_matrix)\n",
    "\n",
    "    # Step 4: Plot\n",
    "    plt.figure(figsize=(6, 5))\n",
    "    for i, cond in enumerate(condition_names):\n",
    "        plt.scatter(coords[i, 0], coords[i, 1], label=cond.upper(), s=100)\n",
    "        plt.text(coords[i, 0], coords[i, 1], cond.upper(), fontsize=12, ha='center', va='center')\n",
    "\n",
    "    plt.title(\"RSA (MDS Projection of Condition Similarities)\")\n",
    "    plt.xlabel(\"MDS Dimension 1\")\n",
    "    plt.ylabel(\"MDS Dimension 2\")\n",
    "    plt.grid(True)\n",
    "    plt.legend()\n",
    "    plt.tight_layout()\n",
    "    plt.show()\n",
    "\n",
    "    return dist_matrix, coords\n",
    "\n",
    "# Assuming you want to run this with channels C3, Cz, and C4\n",
    "compute_rsa_and_plot_mds(epochs_dict={\"rest\": combined_rest, \"motor_execution\": epochs_exec[\"task\"], \"motor_imagery\": epochs_imag[\"task\"]},\n",
    "                         picks=[\"C3\", \"Cz\", \"C4\"])\n"
   ]
  },
  {
   "cell_type": "code",
   "execution_count": null,
   "metadata": {},
   "outputs": [],
   "source": [
    "def plot_tsne_all_trials(epochs_dict, picks=['C3', 'Cz', 'C4']):\n",
    "    \"\"\"\n",
    "    Flatten and reduce all trials across conditions using t-SNE.\n",
    "    \"\"\"\n",
    "    from sklearn.manifold import TSNE\n",
    "    import matplotlib.pyplot as plt\n",
    "\n",
    "    X = []\n",
    "    y = []\n",
    "\n",
    "    for label, epochs in epochs_dict.items():\n",
    "        data = epochs.get_data(picks=picks)  # shape: (n_epochs, n_channels, n_times)\n",
    "        flat = data.reshape(data.shape[0], -1)  # flatten each epoch\n",
    "        X.append(flat)\n",
    "        y.extend([label] * len(flat))\n",
    "\n",
    "    X = np.vstack(X)\n",
    "    tsne = TSNE(n_components=2, perplexity=30, random_state=42)\n",
    "    X_tsne = tsne.fit_transform(X)\n",
    "\n",
    "    # Plot\n",
    "    plt.figure(figsize=(7, 6))\n",
    "    for label in np.unique(y):\n",
    "        idx = [i for i, val in enumerate(y) if val == label]\n",
    "        plt.scatter(X_tsne[idx, 0], X_tsne[idx, 1], label=label, alpha=0.7)\n",
    "    plt.title(\"Trial-wise t-SNE Projection\")\n",
    "    plt.xlabel(\"Dim 1\"); plt.ylabel(\"Dim 2\")\n",
    "    plt.legend(); plt.grid(True); plt.tight_layout()\n",
    "    plt.show()\n"
   ]
  },
  {
   "cell_type": "code",
   "execution_count": null,
   "metadata": {},
   "outputs": [],
   "source": [
    "from scipy.spatial.distance import cosine, euclidean\n",
    "\n",
    "def compute_topographic_distances(topographies):\n",
    "    \"\"\"\n",
    "    Compute pairwise distances between condition topographies.\n",
    "    \"\"\"\n",
    "    labels = list(topographies.keys())\n",
    "    dists = {}\n",
    "    for i in range(len(labels)):\n",
    "        for j in range(i+1, len(labels)):\n",
    "            v1, v2 = topographies[labels[i]], topographies[labels[j]]\n",
    "            dists[f\"{labels[i]} vs {labels[j]}\"] = {\n",
    "                \"cosine\": cosine(v1, v2),\n",
    "                \"euclidean\": euclidean(v1, v2)\n",
    "            }\n",
    "    return dists\n"
   ]
  },
  {
   "cell_type": "code",
   "execution_count": null,
   "metadata": {},
   "outputs": [],
   "source": []
  }
 ],
 "metadata": {
  "kernelspec": {
   "display_name": "Python 3",
   "language": "python",
   "name": "python3"
  },
  "language_info": {
   "codemirror_mode": {
    "name": "ipython",
    "version": 3
   },
   "file_extension": ".py",
   "mimetype": "text/x-python",
   "name": "python",
   "nbconvert_exporter": "python",
   "pygments_lexer": "ipython3",
   "version": "3.12.2"
  }
 },
 "nbformat": 4,
 "nbformat_minor": 2
}
