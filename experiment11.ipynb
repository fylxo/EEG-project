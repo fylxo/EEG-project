{
 "cells": [
  {
   "cell_type": "code",
   "execution_count": 2,
   "metadata": {},
   "outputs": [],
   "source": [
    "import os\n",
    "import json\n",
    "import mne\n",
    "import scipy\n",
    "\n",
    "import numpy as np\n",
    "import pandas as pd\n",
    "import scipy.stats as stats\n",
    "import matplotlib.pyplot as plt\n",
    "import seaborn as sns\n",
    "\n",
    "from mne.preprocessing import ICA\n",
    "from mne.time_frequency import psd_array_welch\n",
    "from scipy.signal import hilbert, coherence\n",
    "\n",
    "try:\n",
    "    import PyQt5.QtCore\n",
    "    %matplotlib qt\n",
    "except ImportError:\n",
    "    %matplotlib inline\n",
    "\n",
    "mne.set_log_level('WARNING')"
   ]
  },
  {
   "cell_type": "code",
   "execution_count": 3,
   "metadata": {},
   "outputs": [],
   "source": [
    "import my_functions as my_fun\n",
    "import my_visualization_functions as my_vis_fun"
   ]
  },
  {
   "cell_type": "code",
   "execution_count": 4,
   "metadata": {},
   "outputs": [],
   "source": [
    "# Define subjects to process\n",
    "subjects = [f\"S{str(i).zfill(3)}\" for i in range(1, 31)]  \n",
    "data_path = \"eeg-motor-movementimagery-dataset-1.0.0/files/\""
   ]
  },
  {
   "cell_type": "code",
   "execution_count": null,
   "metadata": {},
   "outputs": [],
   "source": [
    "subjects.remove(\"S038\")"
   ]
  },
  {
   "cell_type": "code",
   "execution_count": null,
   "metadata": {},
   "outputs": [],
   "source": [
    "# Process EEG data\n",
    "eeg_data = my_fun.process_eeg(subjects=subjects, data_path=data_path, mode=\"automatic\", apply_ica=True)"
   ]
  },
  {
   "cell_type": "markdown",
   "metadata": {},
   "source": [
    "## Visualization for one subject"
   ]
  },
  {
   "cell_type": "code",
   "execution_count": null,
   "metadata": {},
   "outputs": [],
   "source": [
    "subject = \"S001\" \n",
    "condition = \"imagined_right_hand\"  # real_left_hand or imagined_left_hand\n",
    "epochs = eeg_data[subject][condition][0]"
   ]
  },
  {
   "cell_type": "code",
   "execution_count": null,
   "metadata": {},
   "outputs": [],
   "source": [
    "my_vis_fun.plot_raw_eeg(eeg_data[subject][condition][0], subject, condition)"
   ]
  },
  {
   "cell_type": "code",
   "execution_count": null,
   "metadata": {},
   "outputs": [],
   "source": [
    "my_vis_fun.plot_erd_ers(epochs, subject, condition, motor_channels=[\"C3\", \"C4\"])"
   ]
  },
  {
   "cell_type": "markdown",
   "metadata": {},
   "source": [
    "## PLV and Coherence Pipeline for one subject"
   ]
  },
  {
   "cell_type": "code",
   "execution_count": null,
   "metadata": {},
   "outputs": [],
   "source": [
    "real_epochs = mne.concatenate_epochs(eeg_data[subject]['real_right_hand'])\n",
    "imagined_epochs = mne.concatenate_epochs(eeg_data[subject]['imagined_right_hand'])\n",
    "rest_epochs = mne.concatenate_epochs(eeg_data[subject]['rest'])"
   ]
  },
  {
   "cell_type": "code",
   "execution_count": null,
   "metadata": {},
   "outputs": [],
   "source": [
    "plv_real = my_fun.compute_plv_matrix(real_epochs)\n",
    "plv_imagined = my_fun.compute_plv_matrix(imagined_epochs)\n",
    "plv_rest = my_fun.compute_plv_matrix(rest_epochs)"
   ]
  },
  {
   "cell_type": "code",
   "execution_count": null,
   "metadata": {},
   "outputs": [],
   "source": [
    "my_vis_fun.plot_plv_matrix(plv_real, real_epochs.ch_names, title=\"PLV - Real Right Hand\")\n",
    "my_vis_fun.plot_plv_matrix(plv_imagined, imagined_epochs.ch_names, title=\"PLV - Imagined Right Hand\")\n",
    "my_vis_fun.plot_plv_matrix(plv_rest, rest_epochs.ch_names, title=\"PLV - Rest\")"
   ]
  },
  {
   "cell_type": "code",
   "execution_count": null,
   "metadata": {},
   "outputs": [],
   "source": [
    "my_vis_fun.plot_plv_difference(plv_real, plv_imagined, real_epochs.ch_names)\n",
    "my_vis_fun.plot_plv_difference(plv_real, plv_rest, real_epochs.ch_names, title=\"PLV Difference (Real - Rest)\")"
   ]
  },
  {
   "cell_type": "code",
   "execution_count": null,
   "metadata": {},
   "outputs": [],
   "source": [
    "my_vis_fun.plot_motor_plv_difference(plv_real, plv_imagined, real_epochs.ch_names, title=\"PLV (Motor Cortex) - Real Right Hand\")"
   ]
  },
  {
   "cell_type": "markdown",
   "metadata": {},
   "source": [
    "## PLV and Coherence Pipeline for multiple subjects"
   ]
  },
  {
   "cell_type": "code",
   "execution_count": null,
   "metadata": {},
   "outputs": [],
   "source": [
    "subjects = [f\"S{str(i).zfill(3)}\" for i in range(1, 31)]  \n",
    "\n",
    "plv_results = {\"real\": [], \"imagined\": [], \"rest\": []}\n",
    "\n",
    "eeg_data_all = {}  # <-- Store all subjects\n",
    "\n",
    "for subject in subjects:\n",
    "    print(f\"\\n🚀 Processing {subject}...\")\n",
    "    \n",
    "    eeg_data = my_fun.process_eeg([subject], data_path=\"eeg-motor-movementimagery-dataset-1.0.0/files/\", mode=\"automatic\", apply_ica=True)\n",
    "\n",
    "    # Merge subject's data into master dict\n",
    "    eeg_data_all.update(eeg_data)\n",
    "\n",
    "    # Compute PLV matrix\n",
    "    real_epochs = mne.concatenate_epochs(eeg_data[subject][\"real_right_hand\"])\n",
    "    imagined_epochs = mne.concatenate_epochs(eeg_data[subject][\"imagined_right_hand\"])\n",
    "    rest_epochs = mne.concatenate_epochs(eeg_data[subject][\"rest\"])\n",
    "\n",
    "    plv_real = my_fun.compute_plv_matrix(real_epochs)\n",
    "    plv_imagined = my_fun.compute_plv_matrix(imagined_epochs)\n",
    "    plv_rest = my_fun.compute_plv_matrix(rest_epochs)\n",
    "\n",
    "    plv_results[\"real\"].append(plv_real)\n",
    "    plv_results[\"imagined\"].append(plv_imagined)\n",
    "    plv_results[\"rest\"].append(plv_rest)\n"
   ]
  },
  {
   "cell_type": "code",
   "execution_count": null,
   "metadata": {},
   "outputs": [],
   "source": [
    "plv_real_group = np.mean(plv_results[\"real\"], axis=0)\n",
    "plv_imagined_group = np.mean(plv_results[\"imagined\"], axis=0)\n",
    "plv_rest_group = np.mean(plv_results[\"rest\"], axis=0)"
   ]
  },
  {
   "cell_type": "code",
   "execution_count": null,
   "metadata": {},
   "outputs": [],
   "source": [
    "my_vis_fun.plot_plv_matrix(plv_real_group, real_epochs.ch_names, title=\"Group Average PLV - Real Right Hand\")\n",
    "my_vis_fun.plot_plv_matrix(plv_imagined_group, imagined_epochs.ch_names, title=\"Group Average PLV - Imagined Right Hand\")\n",
    "my_vis_fun.plot_plv_matrix(plv_imagined_group, imagined_epochs.ch_names, title=\"Group Average PLV - Rest\")\n",
    "\n",
    "my_vis_fun.plot_plv_difference(plv_real_group, plv_imagined_group, real_epochs.ch_names)\n",
    "my_vis_fun.plot_plv_difference(plv_real_group, plv_rest_group, real_epochs.ch_names, title=\"PLV Difference (Real - Rest)\")\n",
    "\n",
    "#my_vis_fun.plot_motor_plv_difference(plv_real_group, plv_imagined_group, real_epochs.ch_names)"
   ]
  },
  {
   "cell_type": "code",
   "execution_count": null,
   "metadata": {},
   "outputs": [],
   "source": [
    "# Define subjects and channel pairs\n",
    "#subjects = [\"S001\", \"S002\", \"S005\"]\n",
    "conditions = {\"real\": \"real_right_hand\", \"imagined\": \"imagined_right_hand\", \"rest\": \"rest\"} \n",
    "\n",
    "channel_pairs = [\n",
    "    (\"C3\", \"C4\"),  # Primary motor cortex\n",
    "    (\"C1\", \"C2\"),  # Central midline\n",
    "    (\"C5\", \"C6\"),  # Central lateral\n",
    "    (\"FC3\", \"FC4\"),  # Frontal-motor\n",
    "    (\"Cz\", \"CPz\"),  # Midline execution\n",
    "    (\"CP3\", \"CP4\"),  # Parietal-motor\n",
    "    (\"Fz\", \"Cz\"),  # Frontal-central connection\n",
    "    (\"Fp1\", \"Fp2\"),  # Frontal\n",
    "    (\"AF3\", \"AF4\"),  # Anterior frontal\n",
    "    (\"O1\", \"O2\"),  # Occipital \n",
    "    (\"PO7\", \"PO8\"),  # Parietal\n",
    "    (\"Fp1\", \"PO8\"),   # Prefrontal\n",
    "    (\"T9\", \"T10\"),  # Temporal\n",
    "]\n",
    "\n",
    "# Analyze\n",
    "df_plv_coh = my_fun.analyze_pairwise_plv_coherence(subjects, eeg_data_all, conditions, channel_pairs)\n",
    "\n",
    "# Plot!\n",
    "my_vis_fun.plot_plv_coherence(df_plv_coh, metric=\"PLV Mean\")\n",
    "my_vis_fun.plot_plv_coherence(df_plv_coh, metric=\"Coherence Mean\")"
   ]
  },
  {
   "cell_type": "code",
   "execution_count": null,
   "metadata": {},
   "outputs": [],
   "source": [
    "df_stats = my_fun.paired_ttest_plv(df_plv_coh, metric=\"PLV Mean\")\n",
    "my_fun.report_paired_ttests(df_stats)"
   ]
  },
  {
   "cell_type": "code",
   "execution_count": null,
   "metadata": {},
   "outputs": [],
   "source": [
    "my_fun.plot_normalized_plv_coherence(df_plv_coh)"
   ]
  },
  {
   "cell_type": "code",
   "execution_count": null,
   "metadata": {},
   "outputs": [],
   "source": [
    "my_fun.plot_ttest_summary(df_stats)"
   ]
  },
  {
   "cell_type": "markdown",
   "metadata": {},
   "source": [
    "# iPLV and wPLI metrics for multiple subjects\n",
    "\n",
    "Only uses the imaginary part of the phase difference, which is theoretically insensitive to zero-lag connections\n",
    "Reduces impact of volume conduction and reference electrode effects\n",
    "More specific for true neural connectivity than regular PLV\n",
    "Values range from 0 (no connectivity) to 1 (perfect phase synchronization)\n",
    "\n",
    "\n",
    "Weights phase differences by the magnitude of the imaginary component\n",
    "Less sensitive to noise than other phase metrics\n",
    "Highly resistant to volume conduction effects\n",
    "Robust measure of true neural connectivity\n",
    "Values range from 0 (no connectivity) to 1 (perfect phase synchronization)\n",
    "\n",
    "PLV can produce spurious connectivity due to volume conduction\n",
    "iPLV and wPLI are more conservative but more specific measures\n",
    "You should expect overall lower values with iPLV and wPLI compared to PLV\n",
    "The pattern of significant connections might change substantially as non-neural connections are filtered out"
   ]
  },
  {
   "cell_type": "code",
   "execution_count": null,
   "metadata": {},
   "outputs": [
    {
     "name": "stdout",
     "output_type": "stream",
     "text": [
      "\n",
      "🚀 Processing S001...\n",
      "\n",
      "🔄 Processing S001...\n",
      "✅ Extracted 7 epochs for S001 - R03 (real_right_hand)\n",
      "✅ Extracted 14 rest epochs for S001 - R03\n",
      "✅ Extracted 7 epochs for S001 - R07 (real_right_hand)\n",
      "✅ Extracted 14 rest epochs for S001 - R07\n",
      "✅ Extracted 8 epochs for S001 - R11 (real_right_hand)\n",
      "✅ Extracted 14 rest epochs for S001 - R11\n",
      "✅ Extracted 7 epochs for S001 - R04 (imagined_right_hand)\n",
      "✅ Extracted 14 rest epochs for S001 - R04\n",
      "✅ Extracted 7 epochs for S001 - R08 (imagined_right_hand)\n",
      "✅ Extracted 14 rest epochs for S001 - R08\n",
      "✅ Extracted 8 epochs for S001 - R12 (imagined_right_hand)\n",
      "✅ Extracted 14 rest epochs for S001 - R12\n",
      "\n",
      "✅ Processing complete.\n",
      "✅ Computed iPLV and wPLI for S001\n",
      "\n",
      "🚀 Processing S002...\n",
      "\n",
      "🔄 Processing S002...\n",
      "✅ Extracted 7 epochs for S002 - R03 (real_right_hand)\n",
      "✅ Extracted 14 rest epochs for S002 - R03\n",
      "✅ Extracted 8 epochs for S002 - R07 (real_right_hand)\n",
      "✅ Extracted 14 rest epochs for S002 - R07\n",
      "✅ Extracted 7 epochs for S002 - R11 (real_right_hand)\n",
      "✅ Extracted 14 rest epochs for S002 - R11\n",
      "✅ Extracted 8 epochs for S002 - R04 (imagined_right_hand)\n",
      "✅ Extracted 14 rest epochs for S002 - R04\n",
      "✅ Extracted 7 epochs for S002 - R08 (imagined_right_hand)\n",
      "✅ Extracted 14 rest epochs for S002 - R08\n",
      "✅ Extracted 7 epochs for S002 - R12 (imagined_right_hand)\n",
      "✅ Extracted 14 rest epochs for S002 - R12\n",
      "\n",
      "✅ Processing complete.\n",
      "✅ Computed iPLV and wPLI for S002\n",
      "\n",
      "🚀 Processing S003...\n",
      "\n",
      "🔄 Processing S003...\n",
      "✅ Extracted 8 epochs for S003 - R03 (real_right_hand)\n",
      "✅ Extracted 14 rest epochs for S003 - R03\n",
      "✅ Extracted 7 epochs for S003 - R07 (real_right_hand)\n",
      "✅ Extracted 14 rest epochs for S003 - R07\n",
      "✅ Extracted 8 epochs for S003 - R11 (real_right_hand)\n",
      "✅ Extracted 14 rest epochs for S003 - R11\n",
      "✅ Extracted 7 epochs for S003 - R04 (imagined_right_hand)\n",
      "✅ Extracted 14 rest epochs for S003 - R04\n",
      "✅ Extracted 8 epochs for S003 - R08 (imagined_right_hand)\n",
      "✅ Extracted 14 rest epochs for S003 - R08\n",
      "✅ Extracted 7 epochs for S003 - R12 (imagined_right_hand)\n",
      "✅ Extracted 14 rest epochs for S003 - R12\n",
      "\n",
      "✅ Processing complete.\n",
      "✅ Computed iPLV and wPLI for S003\n",
      "\n",
      "🚀 Processing S004...\n",
      "\n",
      "🔄 Processing S004...\n",
      "✅ Extracted 8 epochs for S004 - R03 (real_right_hand)\n",
      "✅ Extracted 14 rest epochs for S004 - R03\n",
      "✅ Extracted 8 epochs for S004 - R07 (real_right_hand)\n",
      "✅ Extracted 14 rest epochs for S004 - R07\n",
      "✅ Extracted 7 epochs for S004 - R11 (real_right_hand)\n",
      "✅ Extracted 14 rest epochs for S004 - R11\n",
      "✅ Extracted 7 epochs for S004 - R04 (imagined_right_hand)\n",
      "✅ Extracted 14 rest epochs for S004 - R04\n",
      "✅ Extracted 8 epochs for S004 - R08 (imagined_right_hand)\n",
      "✅ Extracted 14 rest epochs for S004 - R08\n",
      "✅ Extracted 7 epochs for S004 - R12 (imagined_right_hand)\n",
      "✅ Extracted 14 rest epochs for S004 - R12\n",
      "\n",
      "✅ Processing complete.\n",
      "✅ Computed iPLV and wPLI for S004\n",
      "\n",
      "🚀 Processing S005...\n",
      "\n",
      "🔄 Processing S005...\n",
      "✅ Extracted 8 epochs for S005 - R03 (real_right_hand)\n",
      "✅ Extracted 14 rest epochs for S005 - R03\n",
      "✅ Extracted 7 epochs for S005 - R07 (real_right_hand)\n",
      "✅ Extracted 14 rest epochs for S005 - R07\n",
      "✅ Extracted 7 epochs for S005 - R11 (real_right_hand)\n",
      "✅ Extracted 14 rest epochs for S005 - R11\n",
      "✅ Extracted 8 epochs for S005 - R04 (imagined_right_hand)\n",
      "✅ Extracted 14 rest epochs for S005 - R04\n",
      "✅ Extracted 8 epochs for S005 - R08 (imagined_right_hand)\n",
      "✅ Extracted 14 rest epochs for S005 - R08\n",
      "✅ Extracted 8 epochs for S005 - R12 (imagined_right_hand)\n",
      "✅ Extracted 14 rest epochs for S005 - R12\n",
      "\n",
      "✅ Processing complete.\n",
      "✅ Computed iPLV and wPLI for S005\n",
      "🧠 Subject: S001\n",
      "  ➡️ Condition: real\n",
      "  ➡️ Condition: imagined\n",
      "  ➡️ Condition: rest\n",
      "🧠 Subject: S002\n",
      "  ➡️ Condition: real\n",
      "  ➡️ Condition: imagined\n",
      "  ➡️ Condition: rest\n",
      "🧠 Subject: S003\n",
      "  ➡️ Condition: real\n",
      "  ➡️ Condition: imagined\n",
      "  ➡️ Condition: rest\n",
      "🧠 Subject: S004\n",
      "  ➡️ Condition: real\n",
      "  ➡️ Condition: imagined\n",
      "  ➡️ Condition: rest\n",
      "🧠 Subject: S005\n",
      "  ➡️ Condition: real\n",
      "  ➡️ Condition: imagined\n",
      "  ➡️ Condition: rest\n",
      "\n",
      "Plotting normalized iPLV Mean:\n",
      "\n",
      "Plotting normalized wPLI:\n"
     ]
    },
    {
     "ename": "NameError",
     "evalue": "name 'multipletests' is not defined",
     "output_type": "error",
     "traceback": [
      "\u001b[1;31m---------------------------------------------------------------------------\u001b[0m",
      "\u001b[1;31mNameError\u001b[0m                                 Traceback (most recent call last)",
      "Cell \u001b[1;32mIn[16], line 125\u001b[0m\n\u001b[0;32m    122\u001b[0m plot_normalized_connectivity(df_connectivity, metrics\u001b[38;5;241m=\u001b[39m[\u001b[38;5;124m\"\u001b[39m\u001b[38;5;124miPLV Mean\u001b[39m\u001b[38;5;124m\"\u001b[39m, \u001b[38;5;124m\"\u001b[39m\u001b[38;5;124mwPLI\u001b[39m\u001b[38;5;124m\"\u001b[39m])\n\u001b[0;32m    124\u001b[0m \u001b[38;5;66;03m# Perform statistical testing\u001b[39;00m\n\u001b[1;32m--> 125\u001b[0m df_stats_iplv \u001b[38;5;241m=\u001b[39m \u001b[43mpaired_ttest_connectivity\u001b[49m\u001b[43m(\u001b[49m\u001b[43mdf_connectivity\u001b[49m\u001b[43m,\u001b[49m\u001b[43m \u001b[49m\u001b[43mmetric\u001b[49m\u001b[38;5;241;43m=\u001b[39;49m\u001b[38;5;124;43m\"\u001b[39;49m\u001b[38;5;124;43miPLV Mean\u001b[39;49m\u001b[38;5;124;43m\"\u001b[39;49m\u001b[43m)\u001b[49m\n\u001b[0;32m    126\u001b[0m df_stats_wpli \u001b[38;5;241m=\u001b[39m paired_ttest_connectivity(df_connectivity, metric\u001b[38;5;241m=\u001b[39m\u001b[38;5;124m\"\u001b[39m\u001b[38;5;124mwPLI\u001b[39m\u001b[38;5;124m\"\u001b[39m)\n\u001b[0;32m    128\u001b[0m \u001b[38;5;66;03m# Report statistical results\u001b[39;00m\n",
      "Cell \u001b[1;32mIn[14], line 62\u001b[0m, in \u001b[0;36mpaired_ttest_connectivity\u001b[1;34m(df, metric, alpha)\u001b[0m\n\u001b[0;32m     59\u001b[0m p_values_real_imagined \u001b[38;5;241m=\u001b[39m [p \u001b[38;5;28;01mfor\u001b[39;00m p \u001b[38;5;129;01min\u001b[39;00m p_values_real_imagined \u001b[38;5;28;01mif\u001b[39;00m \u001b[38;5;129;01mnot\u001b[39;00m np\u001b[38;5;241m.\u001b[39misnan(p)]\n\u001b[0;32m     61\u001b[0m \u001b[38;5;28;01mif\u001b[39;00m p_values_real_rest:\n\u001b[1;32m---> 62\u001b[0m     _, p_corrected_real_rest, _, _ \u001b[38;5;241m=\u001b[39m \u001b[43mmultipletests\u001b[49m(\n\u001b[0;32m     63\u001b[0m         p_values_real_rest, alpha\u001b[38;5;241m=\u001b[39malpha, method\u001b[38;5;241m=\u001b[39m\u001b[38;5;124m'\u001b[39m\u001b[38;5;124mbonferroni\u001b[39m\u001b[38;5;124m'\u001b[39m)\n\u001b[0;32m     65\u001b[0m \u001b[38;5;28;01mif\u001b[39;00m p_values_real_imagined:\n\u001b[0;32m     66\u001b[0m     _, p_corrected_real_imagined, _, _ \u001b[38;5;241m=\u001b[39m multipletests(\n\u001b[0;32m     67\u001b[0m         p_values_real_imagined, alpha\u001b[38;5;241m=\u001b[39malpha, method\u001b[38;5;241m=\u001b[39m\u001b[38;5;124m'\u001b[39m\u001b[38;5;124mbonferroni\u001b[39m\u001b[38;5;124m'\u001b[39m)\n",
      "\u001b[1;31mNameError\u001b[0m: name 'multipletests' is not defined"
     ]
    }
   ],
   "source": [
    "# Define subjects and initialize storage\n",
    "subjects = [f\"S{str(i).zfill(3)}\" for i in range(1, 6)]\n",
    "connectivity_results = {\n",
    "    \"real\": {\"iplv\": [], \"wpli\": []},\n",
    "    \"imagined\": {\"iplv\": [], \"wpli\": []},\n",
    "    \"rest\": {\"iplv\": [], \"wpli\": []}\n",
    "}\n",
    "eeg_data_all = {}  # Store all subjects data\n",
    "\n",
    "# Process each subject\n",
    "for subject in subjects:\n",
    "    print(f\"\\n🚀 Processing {subject}...\")\n",
    "    \n",
    "    # Process EEG data\n",
    "    eeg_data = my_fun.process_eeg([subject], data_path=\"eeg-motor-movementimagery-dataset-1.0.0/files/\", \n",
    "                          mode=\"automatic\", apply_ica=False)\n",
    "    \n",
    "    # Merge subject's data into master dict\n",
    "    eeg_data_all.update(eeg_data)\n",
    "    \n",
    "    # Only continue if we have data for this subject\n",
    "    if subject not in eeg_data or not all(cond in eeg_data[subject] for cond in \n",
    "                                         [\"real_right_hand\", \"imagined_right_hand\", \"rest\"]):\n",
    "        print(f\"⚠️ Missing condition data for {subject}, skipping connectivity analysis\")\n",
    "        continue\n",
    "    \n",
    "    # Concatenate epochs for each condition\n",
    "    real_epochs = mne.concatenate_epochs(eeg_data[subject][\"real_right_hand\"])\n",
    "    imagined_epochs = mne.concatenate_epochs(eeg_data[subject][\"imagined_right_hand\"])\n",
    "    rest_epochs = mne.concatenate_epochs(eeg_data[subject][\"rest\"])\n",
    "    \n",
    "    # Compute iPLV matrices\n",
    "    iplv_real = my_fun.compute_iplv_matrix(real_epochs)\n",
    "    iplv_imagined = my_fun.compute_iplv_matrix(imagined_epochs)\n",
    "    iplv_rest = my_fun.compute_iplv_matrix(rest_epochs)\n",
    "    \n",
    "    # Compute wPLI matrices\n",
    "    wpli_real = my_fun.compute_wpli_matrix(real_epochs)\n",
    "    wpli_imagined = my_fun.compute_wpli_matrix(imagined_epochs)\n",
    "    wpli_rest = my_fun.compute_wpli_matrix(rest_epochs)\n",
    "    my_fun.\n",
    "    # Store results\n",
    "    connectivity_results[\"real\"][\"iplv\"].append(iplv_real)\n",
    "    connectivity_results[\"real\"][\"wpli\"].append(wpli_real)\n",
    "    \n",
    "    connectivity_results[\"imagined\"][\"iplv\"].append(iplv_imagined)\n",
    "    connectivity_results[\"imagined\"][\"wpli\"].append(wpli_imagined)\n",
    "    \n",
    "    connectivity_results[\"rest\"][\"iplv\"].append(iplv_rest)\n",
    "    connectivity_results[\"rest\"][\"wpli\"].append(wpli_rest)\n",
    "    \n",
    "    print(f\"✅ Computed iPLV and wPLI for {subject}\")\n",
    "\n",
    "\n",
    "# Compute group averages\n",
    "iplv_real_group = np.mean(connectivity_results[\"real\"][\"iplv\"], axis=0)\n",
    "iplv_imagined_group = np.mean(connectivity_results[\"imagined\"][\"iplv\"], axis=0)\n",
    "iplv_rest_group = np.mean(connectivity_results[\"rest\"][\"iplv\"], axis=0)\n",
    "\n",
    "wpli_real_group = np.mean(connectivity_results[\"real\"][\"wpli\"], axis=0)\n",
    "wpli_imagined_group = np.mean(connectivity_results[\"imagined\"][\"wpli\"], axis=0)\n",
    "wpli_rest_group = np.mean(connectivity_results[\"rest\"][\"wpli\"], axis=0)\n",
    "\n",
    "# Plot group connectivity matrices\n",
    "my_fun.plot_connectivity_matrix(iplv_real_group, real_epochs.ch_names, \n",
    "                        title=\"Group Average iPLV - Real Right Hand\")\n",
    "my_fun.plot_connectivity_matrix(iplv_imagined_group, imagined_epochs.ch_names, \n",
    "                        title=\"Group Average iPLV - Imagined Right Hand\")\n",
    "my_fun.plot_connectivity_matrix(iplv_rest_group, rest_epochs.ch_names, \n",
    "                        title=\"Group Average iPLV - Rest\")\n",
    "\n",
    "my_fun.plot_connectivity_matrix(wpli_real_group, real_epochs.ch_names, \n",
    "                        title=\"Group Average wPLI - Real Right Hand\")\n",
    "my_fun.plot_connectivity_matrix(wpli_imagined_group, imagined_epochs.ch_names, \n",
    "                        title=\"Group Average wPLI - Imagined Right Hand\")\n",
    "my_fun.plot_connectivity_matrix(wpli_rest_group, rest_epochs.ch_names, \n",
    "                        title=\"Group Average wPLI - Rest\")\n",
    "\n",
    "# Plot connectivity differences\n",
    "my_fun.plot_connectivity_difference(iplv_real_group, iplv_imagined_group, real_epochs.ch_names,\n",
    "                           title=\"iPLV Difference (Real - Imagined)\")\n",
    "my_fun.plot_connectivity_difference(iplv_real_group, iplv_rest_group, real_epochs.ch_names,\n",
    "                           title=\"iPLV Difference (Real - Rest)\")\n",
    "\n",
    "my_fun.plot_connectivity_difference(wpli_real_group, wpli_imagined_group, real_epochs.ch_names,\n",
    "                           title=\"wPLI Difference (Real - Imagined)\")\n",
    "my_fun.plot_connectivity_difference(wpli_real_group, wpli_rest_group, real_epochs.ch_names,\n",
    "                           title=\"wPLI Difference (Real - Rest)\")\n",
    "\n",
    "# Define channel pairs and conditions for pairwise analysis\n",
    "channel_pairs = [\n",
    "    (\"C3\", \"C4\"),   # Primary motor cortex\n",
    "    (\"C1\", \"C2\"),   # Central midline\n",
    "    (\"C5\", \"C6\"),   # Central lateral\n",
    "    (\"FC3\", \"FC4\"), # Frontal-motor\n",
    "    (\"Cz\", \"CPz\"),  # Midline execution\n",
    "    (\"CP3\", \"CP4\"), # Parietal-motor\n",
    "    (\"Fz\", \"Cz\"),   # Frontal-central connection\n",
    "    (\"Fp1\", \"Fp2\"), # Frontal\n",
    "    (\"AF3\", \"AF4\"), # Anterior frontal\n",
    "    (\"O1\", \"O2\"),   # Occipital \n",
    "    (\"PO7\", \"PO8\"), # Parietal\n",
    "    (\"Fp1\", \"PO8\"),  # Prefrontal\n",
    "    (\"T9\", \"T10\"),  # Temporal\n",
    "]\n",
    "\n",
    "conditions = {\"real\": \"real_right_hand\", \"imagined\": \"imagined_right_hand\", \"rest\": \"rest\"}\n",
    "\n",
    "# Analyze pairwise connectivity\n",
    "df_connectivity = my_fun.analyze_pairwise_connectivity(\n",
    "    subjects, \n",
    "    eeg_data_all, \n",
    "    conditions, \n",
    "    channel_pairs, \n",
    "    metrics=[\"iPLV\", \"wPLI\"]\n",
    ")\n",
    "\n",
    "# Plot the connectivity metrics\n",
    "my_fun.plot_iplv_wpli_comparison(df_connectivity, metrics=[\"iPLV Mean\", \"wPLI\"])\n",
    "\n",
    "# Plot normalized connectivity (relative to rest)\n",
    "my_fun.plot_normalized_connectivity(df_connectivity, metrics=[\"iPLV Mean\", \"wPLI\"])\n",
    "\n",
    "# Perform statistical testing\n",
    "df_stats_iplv = my_fun.paired_ttest_connectivity(df_connectivity, metric=\"iPLV Mean\")\n",
    "df_stats_wpli = my_fun.paired_ttest_connectivity(df_connectivity, metric=\"wPLI\")\n",
    "\n",
    "# Report statistical results\n",
    "my_fun.report_paired_ttests(df_stats_iplv)\n",
    "my_fun.report_paired_ttests(df_stats_wpli)\n",
    "\n",
    "# Plot t-test summary for iPLV\n",
    "my_fun.plot_ttest_summary(df_stats_iplv, title=\"iPLV Statistical Analysis\")\n",
    "\n",
    "# Plot t-test summary for wPLI\n",
    "my_fun.plot_ttest_summary(df_stats_wpli, title=\"wPLI Statistical Analysis\")"
   ]
  },
  {
   "cell_type": "code",
   "execution_count": null,
   "metadata": {},
   "outputs": [],
   "source": []
  },
  {
   "cell_type": "markdown",
   "metadata": {},
   "source": [
    "# Time Frequency Representation Analysis"
   ]
  },
  {
   "cell_type": "code",
   "execution_count": null,
   "metadata": {},
   "outputs": [],
   "source": [
    "# For each condition (real, imagined, rest)\n",
    "freqs = np.arange(6, 30, 1)  # 5-40 Hz range\n",
    "n_cycles = freqs / 2\n",
    "\n",
    "power_real = my_fun.tfr_morlet(real_epochs, freqs=freqs, n_cycles=n_cycles, return_itc=False)\n",
    "power_imagined = my_fun.tfr_morlet(imagined_epochs, freqs=freqs, n_cycles=n_cycles, return_itc=False)\n",
    "power_rest = my_fun.tfr_morlet(rest_epochs, freqs=freqs, n_cycles=n_cycles, return_itc=False)"
   ]
  },
  {
   "cell_type": "code",
   "execution_count": null,
   "metadata": {},
   "outputs": [],
   "source": [
    "# Plot time-frequency plots for key channels (C3, C4)\n",
    "power_real.plot_joint(title='Real Movement', picks=['Cz', 'CPz'])\n",
    "power_imagined.plot_joint(title='Imagined Movement', picks=['Cz', 'CPz'])\n",
    "power_rest.plot_joint(title='Rest', picks=['Cz', 'CPz'])"
   ]
  },
  {
   "cell_type": "markdown",
   "metadata": {},
   "source": [
    "# Classification / Decoding Part"
   ]
  },
  {
   "cell_type": "code",
   "execution_count": null,
   "metadata": {},
   "outputs": [],
   "source": [
    "# 1. Run classification on both condition pairs\n",
    "group_results, individual_results = my_fun.classify_condition_pairs(eeg_data, subjects)\n",
    "\n",
    "# 2. Visualize the comparison\n",
    "summary = my_vis_fun.visualize_comparison(group_results, individual_results)"
   ]
  },
  {
   "cell_type": "markdown",
   "metadata": {},
   "source": [
    "# Frequency Bands and Time Window Analysis"
   ]
  },
  {
   "cell_type": "code",
   "execution_count": null,
   "metadata": {},
   "outputs": [],
   "source": [
    "# Run the frequency band analysis\n",
    "band_results, band_names = my_fun.analyze_frequency_bands(eeg_data, subjects)"
   ]
  },
  {
   "cell_type": "code",
   "execution_count": null,
   "metadata": {},
   "outputs": [],
   "source": [
    "# Run the time window analysis\n",
    "window_results, window_names = my_fun.analyze_time_windows(eeg_data, subjects)"
   ]
  },
  {
   "cell_type": "markdown",
   "metadata": {},
   "source": [
    "# RDM Analysis"
   ]
  },
  {
   "cell_type": "code",
   "execution_count": null,
   "metadata": {},
   "outputs": [],
   "source": []
  }
 ],
 "metadata": {
  "kernelspec": {
   "display_name": "Python 3",
   "language": "python",
   "name": "python3"
  },
  "language_info": {
   "codemirror_mode": {
    "name": "ipython",
    "version": 3
   },
   "file_extension": ".py",
   "mimetype": "text/x-python",
   "name": "python",
   "nbconvert_exporter": "python",
   "pygments_lexer": "ipython3",
   "version": "3.12.2"
  }
 },
 "nbformat": 4,
 "nbformat_minor": 2
}
