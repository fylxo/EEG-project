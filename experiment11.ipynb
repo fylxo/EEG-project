{
 "cells": [
  {
   "cell_type": "code",
   "execution_count": null,
   "metadata": {},
   "outputs": [],
   "source": [
    "import os\n",
    "import json\n",
    "import mne\n",
    "import scipy\n",
    "\n",
    "import numpy as np\n",
    "import pandas as pd\n",
    "import scipy.stats as stats\n",
    "import matplotlib.pyplot as plt\n",
    "import seaborn as sns\n",
    "\n",
    "from mne.preprocessing import ICA\n",
    "from mne.time_frequency import psd_array_welch\n",
    "from scipy.signal import hilbert, coherence\n",
    "\n",
    "try:\n",
    "    import PyQt5.QtCore\n",
    "    %matplotlib qt\n",
    "except ImportError:\n",
    "    %matplotlib inline\n",
    "\n",
    "mne.set_log_level('WARNING')"
   ]
  },
  {
   "cell_type": "code",
   "execution_count": null,
   "metadata": {},
   "outputs": [],
   "source": [
    "import my_functions as my_fun\n",
    "import my_visualization_functions as my_vis_fun"
   ]
  },
  {
   "cell_type": "code",
   "execution_count": null,
   "metadata": {},
   "outputs": [],
   "source": [
    "# Define subjects to process\n",
    "subjects = [f\"S{str(i).zfill(3)}\" for i in range(1, 31)]  \n",
    "data_path = \"eeg-motor-movementimagery-dataset-1.0.0/files/\""
   ]
  },
  {
   "cell_type": "code",
   "execution_count": null,
   "metadata": {},
   "outputs": [],
   "source": [
    "subjects.remove(\"S038\")"
   ]
  },
  {
   "cell_type": "code",
   "execution_count": null,
   "metadata": {},
   "outputs": [],
   "source": [
    "# Process EEG data\n",
    "eeg_data = my_fun.process_eeg(subjects=subjects, data_path=data_path, mode=\"automatic\", apply_ica=True)"
   ]
  },
  {
   "cell_type": "markdown",
   "metadata": {},
   "source": [
    "## Visualization for one subject"
   ]
  },
  {
   "cell_type": "code",
   "execution_count": null,
   "metadata": {},
   "outputs": [],
   "source": [
    "subject = \"S001\" \n",
    "condition = \"imagined_right_hand\"  # real_left_hand or imagined_left_hand\n",
    "epochs = eeg_data[subject][condition][0]"
   ]
  },
  {
   "cell_type": "code",
   "execution_count": null,
   "metadata": {},
   "outputs": [],
   "source": [
    "my_vis_fun.plot_raw_eeg(eeg_data[subject][condition][0], subject, condition)"
   ]
  },
  {
   "cell_type": "code",
   "execution_count": null,
   "metadata": {},
   "outputs": [],
   "source": [
    "my_vis_fun.plot_erd_ers(epochs, subject, condition, motor_channels=[\"C3\", \"C4\"])"
   ]
  },
  {
   "cell_type": "markdown",
   "metadata": {},
   "source": [
    "## PLV and Coherence Pipeline for one subject"
   ]
  },
  {
   "cell_type": "code",
   "execution_count": null,
   "metadata": {},
   "outputs": [],
   "source": [
    "real_epochs = mne.concatenate_epochs(eeg_data[subject]['real_right_hand'])\n",
    "imagined_epochs = mne.concatenate_epochs(eeg_data[subject]['imagined_right_hand'])\n",
    "rest_epochs = mne.concatenate_epochs(eeg_data[subject]['rest'])"
   ]
  },
  {
   "cell_type": "code",
   "execution_count": null,
   "metadata": {},
   "outputs": [],
   "source": [
    "plv_real = my_fun.compute_plv_matrix(real_epochs)\n",
    "plv_imagined = my_fun.compute_plv_matrix(imagined_epochs)\n",
    "plv_rest = my_fun.compute_plv_matrix(rest_epochs)"
   ]
  },
  {
   "cell_type": "code",
   "execution_count": null,
   "metadata": {},
   "outputs": [],
   "source": [
    "my_vis_fun.plot_plv_matrix(plv_real, real_epochs.ch_names, title=\"PLV - Real Right Hand\")\n",
    "my_vis_fun.plot_plv_matrix(plv_imagined, imagined_epochs.ch_names, title=\"PLV - Imagined Right Hand\")\n",
    "my_vis_fun.plot_plv_matrix(plv_rest, rest_epochs.ch_names, title=\"PLV - Rest\")"
   ]
  },
  {
   "cell_type": "code",
   "execution_count": null,
   "metadata": {},
   "outputs": [],
   "source": [
    "my_vis_fun.plot_plv_difference(plv_real, plv_imagined, real_epochs.ch_names)\n",
    "my_vis_fun.plot_plv_difference(plv_real, plv_rest, real_epochs.ch_names, title=\"PLV Difference (Real - Rest)\")"
   ]
  },
  {
   "cell_type": "code",
   "execution_count": null,
   "metadata": {},
   "outputs": [],
   "source": [
    "my_vis_fun.plot_motor_plv_difference(plv_real, plv_imagined, real_epochs.ch_names, title=\"PLV (Motor Cortex) - Real Right Hand\")"
   ]
  },
  {
   "cell_type": "markdown",
   "metadata": {},
   "source": [
    "## PLV and Coherence Pipeline for multiple subjects"
   ]
  },
  {
   "cell_type": "code",
   "execution_count": null,
   "metadata": {},
   "outputs": [],
   "source": [
    "subjects = [f\"S{str(i).zfill(3)}\" for i in range(1, 31)]  \n",
    "\n",
    "plv_results = {\"real\": [], \"imagined\": [], \"rest\": []}\n",
    "\n",
    "eeg_data_all = {}  # <-- Store all subjects\n",
    "\n",
    "for subject in subjects:\n",
    "    print(f\"\\n🚀 Processing {subject}...\")\n",
    "    \n",
    "    eeg_data = my_fun.process_eeg([subject], data_path=\"eeg-motor-movementimagery-dataset-1.0.0/files/\", mode=\"automatic\", apply_ica=True)\n",
    "\n",
    "    # Merge subject's data into master dict\n",
    "    eeg_data_all.update(eeg_data)\n",
    "\n",
    "    # Compute PLV matrix\n",
    "    real_epochs = mne.concatenate_epochs(eeg_data[subject][\"real_right_hand\"])\n",
    "    imagined_epochs = mne.concatenate_epochs(eeg_data[subject][\"imagined_right_hand\"])\n",
    "    rest_epochs = mne.concatenate_epochs(eeg_data[subject][\"rest\"])\n",
    "\n",
    "    plv_real = my_fun.compute_plv_matrix(real_epochs)\n",
    "    plv_imagined = my_fun.compute_plv_matrix(imagined_epochs)\n",
    "    plv_rest = my_fun.compute_plv_matrix(rest_epochs)\n",
    "\n",
    "    plv_results[\"real\"].append(plv_real)\n",
    "    plv_results[\"imagined\"].append(plv_imagined)\n",
    "    plv_results[\"rest\"].append(plv_rest)\n"
   ]
  },
  {
   "cell_type": "code",
   "execution_count": null,
   "metadata": {},
   "outputs": [],
   "source": [
    "plv_real_group = np.mean(plv_results[\"real\"], axis=0)\n",
    "plv_imagined_group = np.mean(plv_results[\"imagined\"], axis=0)\n",
    "plv_rest_group = np.mean(plv_results[\"rest\"], axis=0)"
   ]
  },
  {
   "cell_type": "code",
   "execution_count": null,
   "metadata": {},
   "outputs": [],
   "source": [
    "my_vis_fun.plot_plv_matrix(plv_real_group, real_epochs.ch_names, title=\"Group Average PLV - Real Right Hand\")\n",
    "my_vis_fun.plot_plv_matrix(plv_imagined_group, imagined_epochs.ch_names, title=\"Group Average PLV - Imagined Right Hand\")\n",
    "my_vis_fun.plot_plv_matrix(plv_imagined_group, imagined_epochs.ch_names, title=\"Group Average PLV - Rest\")\n",
    "\n",
    "my_vis_fun.plot_plv_difference(plv_real_group, plv_imagined_group, real_epochs.ch_names)\n",
    "my_vis_fun.plot_plv_difference(plv_real_group, plv_rest_group, real_epochs.ch_names, title=\"PLV Difference (Real - Rest)\")\n",
    "\n",
    "#my_vis_fun.plot_motor_plv_difference(plv_real_group, plv_imagined_group, real_epochs.ch_names)"
   ]
  },
  {
   "cell_type": "code",
   "execution_count": null,
   "metadata": {},
   "outputs": [],
   "source": [
    "# Define subjects and channel pairs\n",
    "#subjects = [\"S001\", \"S002\", \"S005\"]\n",
    "conditions = {\"real\": \"real_right_hand\", \"imagined\": \"imagined_right_hand\", \"rest\": \"rest\"} \n",
    "\n",
    "channel_pairs = [\n",
    "    (\"C3\", \"C4\"),  # Primary motor cortex\n",
    "    (\"C1\", \"C2\"),  # Central midline\n",
    "    (\"C5\", \"C6\"),  # Central lateral\n",
    "    (\"FC3\", \"FC4\"),  # Frontal-motor\n",
    "    (\"Cz\", \"CPz\"),  # Midline execution\n",
    "    (\"CP3\", \"CP4\"),  # Parietal-motor\n",
    "    (\"Fz\", \"Cz\"),  # Frontal-central connection\n",
    "    (\"Fp1\", \"Fp2\"),  # Frontal\n",
    "    (\"AF3\", \"AF4\"),  # Anterior frontal\n",
    "    (\"O1\", \"O2\"),  # Occipital \n",
    "    (\"PO7\", \"PO8\"),  # Parietal\n",
    "    (\"Fp1\", \"PO8\"),   # Prefrontal\n",
    "    (\"T9\", \"T10\"),  # Temporal\n",
    "]\n",
    "\n",
    "# Analyze\n",
    "df_plv_coh = my_fun.analyze_pairwise_plv_coherence(subjects, eeg_data_all, conditions, channel_pairs)\n",
    "\n",
    "# Plot!\n",
    "my_vis_fun.plot_plv_coherence(df_plv_coh, metric=\"PLV Mean\")\n",
    "my_vis_fun.plot_plv_coherence(df_plv_coh, metric=\"Coherence Mean\")"
   ]
  },
  {
   "cell_type": "code",
   "execution_count": null,
   "metadata": {},
   "outputs": [],
   "source": [
    "df_stats = my_fun.paired_ttest_plv(df_plv_coh, metric=\"PLV Mean\")\n",
    "my_fun.report_paired_ttests(df_stats)"
   ]
  },
  {
   "cell_type": "code",
   "execution_count": null,
   "metadata": {},
   "outputs": [],
   "source": [
    "def plot_normalized_plv_coherence(df, metric=\"PLV Mean\", figsize=(14, 7)):\n",
    "    \"\"\"\n",
    "    Plot PLV or Coherence normalized to the Rest condition.\n",
    "    Rest condition is not shown but serves as the baseline (value 1.0).\n",
    "    \n",
    "    Parameters:\n",
    "    -----------\n",
    "    df : DataFrame\n",
    "        Original PLV/Coherence DataFrame\n",
    "    metric : str\n",
    "        Metric to normalize: e.g., \"PLV Mean\"\n",
    "    figsize : tuple\n",
    "        Size of the matplotlib figure\n",
    "    \"\"\"\n",
    "    if metric not in [\"PLV Mean\", \"PLV Max\", \"Coherence Mean\", \"Coherence Max\"]:\n",
    "        raise ValueError(\"Invalid metric.\")\n",
    "\n",
    "    df_pivot = df.pivot_table(index=[\"Subject\", \"Channel Pair\"], columns=\"Condition\", values=metric)\n",
    "    df_pivot = df_pivot.dropna(subset=[\"Rest\"])\n",
    "\n",
    "    # Normalize Real and Imagined\n",
    "    df_norm = df_pivot.copy()\n",
    "    df_norm[\"Real\"] = df_norm[\"Real\"] / df_norm[\"Rest\"]\n",
    "    df_norm[\"Imagined\"] = df_norm[\"Imagined\"] / df_norm[\"Rest\"]\n",
    "\n",
    "    df_long = df_norm[[\"Real\", \"Imagined\"]].reset_index().melt(\n",
    "        id_vars=[\"Subject\", \"Channel Pair\"],\n",
    "        var_name=\"Condition\",\n",
    "        value_name=metric\n",
    "    )\n",
    "\n",
    "    # Plot\n",
    "    plt.figure(figsize=figsize)\n",
    "    ax = sns.barplot(data=df_long, x=\"Channel Pair\", y=metric, hue=\"Condition\", palette=\"Set2\")\n",
    "\n",
    "    # Reference line for Rest (value = 1)\n",
    "    plt.axhline(1.0, color='gray', linestyle='--', linewidth=1.2, label=\"Rest Baseline\")\n",
    "\n",
    "    # Labels\n",
    "    plt.xlabel(\"Electrode Pair\")\n",
    "    plt.ylabel(f\"Normalized {metric} (÷ Rest)\")\n",
    "    plt.title(f\"Normalized {metric} (Real/Imagined divided by Rest)\")\n",
    "    plt.xticks(rotation=45)\n",
    "    plt.legend(title=\"Condition\")\n",
    "    plt.grid(axis='y', alpha=0.3)\n",
    "    plt.tight_layout()\n",
    "    plt.show()\n"
   ]
  },
  {
   "cell_type": "code",
   "execution_count": null,
   "metadata": {},
   "outputs": [],
   "source": [
    "plot_normalized_plv_coherence(df_plv_coh)"
   ]
  },
  {
   "cell_type": "code",
   "execution_count": null,
   "metadata": {},
   "outputs": [],
   "source": [
    "def plot_ttest_summary(df_stats, alpha=0.05, figsize=(10, 6)):\n",
    "    \"\"\"\n",
    "    Graphical summary of t-test p-values with significance indication.\n",
    "    \n",
    "    Parameters:\n",
    "    -----------\n",
    "    df_stats : DataFrame\n",
    "        DataFrame from paired_ttest_plv\n",
    "    alpha : float\n",
    "        Significance threshold\n",
    "    figsize : tuple\n",
    "        Size of the figure\n",
    "    \"\"\"\n",
    "    import matplotlib.colors as mcolors\n",
    "\n",
    "    pval_df = df_stats[[\"Channel Pair\", \"p Real vs Rest\", \"p Real vs Imagined\"]].copy()\n",
    "    pval_df.set_index(\"Channel Pair\", inplace=True)\n",
    "\n",
    "    # Replace missing with 1 (non-significant)\n",
    "    pval_matrix = pval_df.fillna(1.0)\n",
    "\n",
    "    # Create mask for significance\n",
    "    sig_mask = pval_matrix <= alpha\n",
    "\n",
    "    # Custom colormap: light = non-sig, dark = sig\n",
    "    cmap = sns.light_palette(\"crimson\", as_cmap=True)\n",
    "\n",
    "    plt.figure(figsize=figsize)\n",
    "    ax = sns.heatmap(\n",
    "        pval_matrix,\n",
    "        cmap=cmap,\n",
    "        annot=pval_matrix.applymap(lambda x: f\"{x:.4f}\"),\n",
    "        fmt=\"\",\n",
    "        linewidths=0.5,\n",
    "        linecolor='gray',\n",
    "        cbar_kws={\"label\": \"p-value\"},\n",
    "        vmin=0, vmax=1\n",
    "    )\n",
    "\n",
    "    # Overlay asterisk for significant results\n",
    "    for y in range(pval_matrix.shape[0]):\n",
    "        for x in range(pval_matrix.shape[1]):\n",
    "            if sig_mask.iloc[y, x]:\n",
    "                ax.text(x + 0.5, y + 0.5, \"*\", ha='center', va='center', fontsize=18, color='black')\n",
    "\n",
    "    ax.set_title(f\"T-test P-Values (Significant p ≤ {alpha})\\n* = statistically significant\")\n",
    "    ax.set_xlabel(\"Comparison\")\n",
    "    ax.set_ylabel(\"Channel Pair\")\n",
    "    plt.tight_layout()\n",
    "    plt.show()\n"
   ]
  },
  {
   "cell_type": "code",
   "execution_count": null,
   "metadata": {},
   "outputs": [],
   "source": [
    "plot_ttest_summary(df_stats)"
   ]
  },
  {
   "cell_type": "markdown",
   "metadata": {},
   "source": [
    "# Time Frequency Representation Analysis"
   ]
  },
  {
   "cell_type": "code",
   "execution_count": null,
   "metadata": {},
   "outputs": [],
   "source": [
    "# For each condition (real, imagined, rest)\n",
    "freqs = np.arange(6, 30, 1)  # 5-40 Hz range\n",
    "n_cycles = freqs / 2\n",
    "\n",
    "power_real = my_fun.tfr_morlet(real_epochs, freqs=freqs, n_cycles=n_cycles, return_itc=False)\n",
    "power_imagined = my_fun.tfr_morlet(imagined_epochs, freqs=freqs, n_cycles=n_cycles, return_itc=False)\n",
    "power_rest = my_fun.tfr_morlet(rest_epochs, freqs=freqs, n_cycles=n_cycles, return_itc=False)"
   ]
  },
  {
   "cell_type": "code",
   "execution_count": null,
   "metadata": {},
   "outputs": [],
   "source": [
    "# Plot time-frequency plots for key channels (C3, C4)\n",
    "power_real.plot_joint(title='Real Movement', picks=['Cz', 'CPz'])\n",
    "power_imagined.plot_joint(title='Imagined Movement', picks=['Cz', 'CPz'])\n",
    "power_rest.plot_joint(title='Rest', picks=['Cz', 'CPz'])"
   ]
  },
  {
   "cell_type": "markdown",
   "metadata": {},
   "source": [
    "# Classification / Decoding Part"
   ]
  },
  {
   "cell_type": "code",
   "execution_count": null,
   "metadata": {},
   "outputs": [],
   "source": [
    "# 1. Run classification on both condition pairs\n",
    "group_results, individual_results = my_fun.classify_condition_pairs(eeg_data, subjects)\n",
    "\n",
    "# 2. Visualize the comparison\n",
    "summary = my_vis_fun.visualize_comparison(group_results, individual_results)"
   ]
  },
  {
   "cell_type": "markdown",
   "metadata": {},
   "source": [
    "# Frequency Bands and Time Window Analysis"
   ]
  },
  {
   "cell_type": "code",
   "execution_count": null,
   "metadata": {},
   "outputs": [],
   "source": [
    "# Run the frequency band analysis\n",
    "band_results, band_names = my_fun.analyze_frequency_bands(eeg_data, subjects)"
   ]
  },
  {
   "cell_type": "code",
   "execution_count": null,
   "metadata": {},
   "outputs": [],
   "source": [
    "# Run the time window analysis\n",
    "window_results, window_names = my_fun.analyze_time_windows(eeg_data, subjects)"
   ]
  },
  {
   "cell_type": "markdown",
   "metadata": {},
   "source": [
    "# RDM Analysis"
   ]
  },
  {
   "cell_type": "code",
   "execution_count": null,
   "metadata": {},
   "outputs": [],
   "source": []
  }
 ],
 "metadata": {
  "kernelspec": {
   "display_name": "Python 3",
   "language": "python",
   "name": "python3"
  },
  "language_info": {
   "codemirror_mode": {
    "name": "ipython",
    "version": 3
   },
   "file_extension": ".py",
   "mimetype": "text/x-python",
   "name": "python",
   "nbconvert_exporter": "python",
   "pygments_lexer": "ipython3",
   "version": "3.12.2"
  }
 },
 "nbformat": 4,
 "nbformat_minor": 2
}
